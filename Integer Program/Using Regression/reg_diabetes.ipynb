{
 "cells": [
  {
   "cell_type": "code",
   "execution_count": 100,
   "metadata": {
    "ExecuteTime": {
     "end_time": "2019-12-07T17:44:40.589116Z",
     "start_time": "2019-12-07T17:44:40.581148Z"
    }
   },
   "outputs": [],
   "source": [
    "import numpy as np\n",
    "import pandas as pd\n",
    "import matplotlib.pyplot as plt\n",
    "import seaborn as sns\n",
    "from sklearn.linear_model import LinearRegression\n",
    "from sklearn.model_selection import train_test_split\n",
    "from sklearn.preprocessing import StandardScaler"
   ]
  },
  {
   "cell_type": "code",
   "execution_count": 31,
   "metadata": {
    "ExecuteTime": {
     "end_time": "2019-12-07T17:00:19.133793Z",
     "start_time": "2019-12-07T17:00:18.929057Z"
    }
   },
   "outputs": [],
   "source": [
    "df = pd.read_csv(\"../../../datasets/super_clean_analytic_data2019.csv\")"
   ]
  },
  {
   "cell_type": "markdown",
   "metadata": {
    "ExecuteTime": {
     "end_time": "2019-12-07T16:07:26.061511Z",
     "start_time": "2019-12-07T16:07:26.053348Z"
    }
   },
   "source": [
    "Target Variable: Premature age-adjusted mortality raw value\n",
    "Change: Diabetes prevalence raw value"
   ]
  },
  {
   "cell_type": "code",
   "execution_count": 33,
   "metadata": {
    "ExecuteTime": {
     "end_time": "2019-12-07T17:00:23.689758Z",
     "start_time": "2019-12-07T17:00:23.605659Z"
    }
   },
   "outputs": [],
   "source": [
    "df.drop('State Abbreviation', axis=1, inplace=True)\n",
    "df.drop('Name', axis=1, inplace=True)\n",
    "df.drop('Premature death raw value', axis=1, inplace=True)"
   ]
  },
  {
   "cell_type": "code",
   "execution_count": 69,
   "metadata": {
    "ExecuteTime": {
     "end_time": "2019-12-07T17:17:41.108659Z",
     "start_time": "2019-12-07T17:17:41.100362Z"
    }
   },
   "outputs": [],
   "source": [
    "rv = []\n",
    "for col_name in df.columns:\n",
    "    if ('raw value' in col_name):\n",
    "        rv.append(col_name)"
   ]
  },
  {
   "cell_type": "code",
   "execution_count": 70,
   "metadata": {
    "ExecuteTime": {
     "end_time": "2019-12-07T17:17:43.019368Z",
     "start_time": "2019-12-07T17:17:42.959004Z"
    }
   },
   "outputs": [],
   "source": [
    "corr_matrix = df[rv].corr()"
   ]
  },
  {
   "cell_type": "code",
   "execution_count": 71,
   "metadata": {
    "ExecuteTime": {
     "end_time": "2019-12-07T17:17:52.487639Z",
     "start_time": "2019-12-07T17:17:52.482813Z"
    }
   },
   "outputs": [],
   "source": [
    "corr_matrix['Premature age-adjusted mortality raw value'];"
   ]
  },
  {
   "cell_type": "code",
   "execution_count": 88,
   "metadata": {
    "ExecuteTime": {
     "end_time": "2019-12-07T17:32:21.871112Z",
     "start_time": "2019-12-07T17:32:21.794205Z"
    },
    "code_folding": [
     2
    ]
   },
   "outputs": [
    {
     "name": "stdout",
     "output_type": "stream",
     "text": [
      "[0.9480846301371325, 0.07, 50]\n"
     ]
    }
   ],
   "source": [
    "bounds = [ 0.065, 0.07, 0.075]\n",
    "best = [0, 0, 0]\n",
    "for b in bounds:\n",
    "    x = []\n",
    "    for col in corr_matrix:\n",
    "        if (corr_matrix['Premature age-adjusted mortality raw value'][col] >= b) | ((corr_matrix['Premature age-adjusted mortality raw value'][col] <= -b)):\n",
    "            if (col != 'Premature age-adjusted mortality raw value'):\n",
    "                x.append(col)\n",
    "    X = df[x]\n",
    "    y = df['Premature age-adjusted mortality raw value']\n",
    "    X_train, X_test, y_train, y_test = train_test_split(X, y,random_state=42)\n",
    "    lr = LinearRegression()\n",
    "    lr.fit(X_train,y_train)\n",
    "    curr = lr.score(X_test,y_test)\n",
    "    if curr > best[0]:\n",
    "        best[0] = curr\n",
    "        best[1] = b\n",
    "        best[2] = len(x)\n",
    "print(best)"
   ]
  },
  {
   "cell_type": "code",
   "execution_count": 121,
   "metadata": {
    "ExecuteTime": {
     "end_time": "2019-12-07T17:53:14.554932Z",
     "start_time": "2019-12-07T17:53:14.506062Z"
    },
    "code_folding": []
   },
   "outputs": [
    {
     "name": "stdout",
     "output_type": "stream",
     "text": [
      "intercept: 398.7224242424243\n",
      "Poor or fair health raw value: 3.0058883227291653\n",
      "Poor physical health days raw value: -11.05854877787554\n",
      "Poor mental health days raw value: -2.4009208101336235\n",
      "Low birthweight raw value: 3.3279128233855424\n",
      "Adult smoking raw value: -1.805290660625115\n",
      "Adult obesity raw value: -2.4260241686832376\n",
      "Food environment index raw value: -12.29209926589423\n",
      "Physical inactivity raw value: 6.17739086132886\n",
      "Access to exercise opportunities raw value: -1.2038162814229114\n",
      "Excessive drinking raw value: 1.7565619934916672\n",
      "Sexually transmitted infections raw value: -0.3548003835144993\n",
      "Teen births raw value: 9.06924623296129\n",
      "Uninsured raw value: 11.957524648071256\n",
      "Primary care physicians raw value: -1.479573383103534\n",
      "Dentists raw value: -0.4267576164138748\n",
      "Preventable hospital stays raw value: 1.5795237864513283\n",
      "Mammography screening raw value: -2.7966949919872732\n",
      "Flu vaccinations raw value: -0.6003619020295328\n",
      "High school graduation raw value: 1.2354261151618022\n",
      "Some college raw value: 0.1316107160411688\n",
      "Unemployment raw value: 0.8418522960610177\n",
      "Children in poverty raw value: 2.510690696640836\n",
      "Income inequality raw value: 2.0373569419350557\n",
      "Children in single-parent households raw value: -0.5301040211974204\n",
      "Injury deaths raw value: 6.79677979484444\n",
      "Air pollution - particulate matter raw value: -2.0622983815340183\n",
      "Driving alone to work raw value: -0.1431651906797038\n",
      "Long commute - driving alone raw value: -1.1136456745191206\n",
      "Life expectancy raw value: -75.85569534248941\n",
      "Frequent physical distress raw value: 15.169469869478137\n",
      "Frequent mental distress raw value: 2.9614493465559564\n",
      "Diabetes prevalence raw value: 4.526675445273829\n",
      "Food insecurity raw value: -6.169799536035361\n",
      "Limited access to healthy foods raw value: -5.104474325669326\n",
      "Insufficient sleep raw value: -1.3726098317946842\n",
      "Uninsured adults raw value: -11.70949957582083\n",
      "Uninsured children raw value: -1.5982486575656605\n",
      "Median household income raw value: 7.383161549677707\n",
      "Children eligible for free or reduced price lunch raw value: 3.375244498492169\n",
      "Homeownership raw value: -3.690943498898528\n",
      "Population raw value: -0.08942691654758983\n",
      "% below 18 years of age raw value: -3.058767936636225\n",
      "% Non-Hispanic African American raw value: -9.853101074845709\n",
      "% American Indian and Alaskan Native raw value: -2.7578541520831283\n",
      "% Asian raw value: -1.2093676666562478\n",
      "% Native Hawaiian/Other Pacific Islander raw value: -0.4766173260835709\n",
      "% Hispanic raw value: -11.120329851618104\n",
      "% Non-Hispanic white raw value: -12.513060155948105\n",
      "% not proficient in English raw value: -1.9833853366815823\n",
      "% Rural raw value: -1.3385998495063678\n"
     ]
    }
   ],
   "source": [
    "b = best[1]\n",
    "x = []\n",
    "for col in corr_matrix:\n",
    "    if (corr_matrix['Premature age-adjusted mortality raw value'][col] >= b) | ((corr_matrix['Premature age-adjusted mortality raw value'][col] <= -b)):\n",
    "        if (col != 'Premature age-adjusted mortality raw value'):\n",
    "            x.append(col)\n",
    "X = df[x]\n",
    "y = df['Premature age-adjusted mortality raw value']\n",
    "X_train, X_test, y_train, y_test = train_test_split(X, y,random_state=42)\n",
    "\n",
    "ss = StandardScaler()\n",
    "X_train= ss.fit_transform(X_train)\n",
    "X_test = ss.transfo\n",
    "lr = LinearRegression()\n",
    "lr.fit(X_train,y_train)\n",
    "print(\"intercept:\", lr.intercept_)\n",
    "for i in range(len(x)):\n",
    "    print(f'{x[i]}: {lr.coef_[i]}')rm(X_test)#####ugh\n"
   ]
  },
  {
   "cell_type": "code",
   "execution_count": 133,
   "metadata": {
    "ExecuteTime": {
     "end_time": "2019-12-07T18:13:00.300549Z",
     "start_time": "2019-12-07T18:13:00.282895Z"
    }
   },
   "outputs": [
    {
     "data": {
      "text/plain": [
       "'3.0058883227291653 * Poororfairhealthrawvalue[c] + -11.05854877787554 * Poorphysicalhealthdaysrawvalue[c] + -2.4009208101336235 * Poormentalhealthdaysrawvalue[c] + 3.3279128233855424 * Lowbirthweightrawvalue[c] + -1.805290660625115 * Adultsmokingrawvalue[c] + -2.4260241686832376 * Adultobesityrawvalue[c] + -12.29209926589423 * Foodenvironmentindexrawvalue[c] + 6.17739086132886 * Physicalinactivityrawvalue[c] + -1.2038162814229114 * Accesstoexerciseopportunitiesrawvalue[c] + 1.7565619934916672 * Excessivedrinkingrawvalue[c] + -0.3548003835144993 * Sexuallytransmittedinfectionsrawvalue[c] + 9.06924623296129 * Teenbirthsrawvalue[c] + 11.957524648071256 * Uninsuredrawvalue[c] + -1.479573383103534 * Primarycarephysiciansrawvalue[c] + -0.4267576164138748 * Dentistsrawvalue[c] + 1.5795237864513283 * Preventablehospitalstaysrawvalue[c] + -2.7966949919872732 * Mammographyscreeningrawvalue[c] + -0.6003619020295328 * Fluvaccinationsrawvalue[c] + 1.2354261151618022 * Highschoolgraduationrawvalue[c] + 0.1316107160411688 * Somecollegerawvalue[c] + 0.8418522960610177 * Unemploymentrawvalue[c] + 2.510690696640836 * Childreninpovertyrawvalue[c] + 2.0373569419350557 * Incomeinequalityrawvalue[c] + -0.5301040211974204 * Childreninsingleparenthouseholdsrawvalue[c] + 6.79677979484444 * Injurydeathsrawvalue[c] + -2.0622983815340183 * Airpollutionparticulatematterrawvalue[c] + -0.1431651906797038 * Drivingalonetoworkrawvalue[c] + -1.1136456745191206 * Longcommutedrivingalonerawvalue[c] + -75.85569534248941 * Lifeexpectancyrawvalue[c] + 15.169469869478137 * Frequentphysicaldistressrawvalue[c] + 2.9614493465559564 * Frequentmentaldistressrawvalue[c] + 4.526675445273829 * Diabetesprevalencerawvalue[c] + -6.169799536035361 * Foodinsecurityrawvalue[c] + -5.104474325669326 * Limitedaccesstohealthyfoodsrawvalue[c] + -1.3726098317946842 * Insufficientsleeprawvalue[c] + -11.70949957582083 * Uninsuredadultsrawvalue[c] + -1.5982486575656605 * Uninsuredchildrenrawvalue[c] + 7.383161549677707 * Medianhouseholdincomerawvalue[c] + 3.375244498492169 * Childreneligibleforfreeorreducedpricelunchrawvalue[c] + -3.690943498898528 * Homeownershiprawvalue[c] + -0.08942691654758983 * Populationrawvalue[c] + -3.058767936636225 * below18yearsofagerawvalue[c] + -9.853101074845709 * NonHispanicAfricanAmericanrawvalue[c] + -2.7578541520831283 * AmericanIndianandAlaskanNativerawvalue[c] + -1.2093676666562478 * Asianrawvalue[c] + -0.4766173260835709 * NativeHawaiianOtherPacificIslanderrawvalue[c] + -11.120329851618104 * Hispanicrawvalue[c] + -12.513060155948105 * NonHispanicwhiterawvalue[c] + -1.9833853366815823 * notproficientinEnglishrawvalue[c] + -1.3385998495063678 * Ruralrawvalue[c] + 398.7224242424243;'"
      ]
     },
     "execution_count": 133,
     "metadata": {},
     "output_type": "execute_result"
    }
   ],
   "source": [
    "#ampl text\n",
    "ampl = ''\n",
    "for i in range(0,len(lr.coef_)):\n",
    "    ampl += f'{lr.coef_[i]} * {x[i].replace(\" \",\"\").replace(\"-\",\"\").replace(\"%\",\"\").replace(\"/\",\"\")}[c] + '\n",
    "ampl += f'{lr.intercept_};'\n",
    "ampl"
   ]
  },
  {
   "cell_type": "code",
   "execution_count": 134,
   "metadata": {
    "ExecuteTime": {
     "end_time": "2019-12-07T18:14:47.660866Z",
     "start_time": "2019-12-07T18:14:47.648584Z"
    }
   },
   "outputs": [
    {
     "name": "stdout",
     "output_type": "stream",
     "text": [
      "param Poororfairhealthrawvalue {c in Counties};\n",
      "param Poorphysicalhealthdaysrawvalue {c in Counties};\n",
      "param Poormentalhealthdaysrawvalue {c in Counties};\n",
      "param Lowbirthweightrawvalue {c in Counties};\n",
      "param Adultsmokingrawvalue {c in Counties};\n",
      "param Adultobesityrawvalue {c in Counties};\n",
      "param Foodenvironmentindexrawvalue {c in Counties};\n",
      "param Physicalinactivityrawvalue {c in Counties};\n",
      "param Accesstoexerciseopportunitiesrawvalue {c in Counties};\n",
      "param Excessivedrinkingrawvalue {c in Counties};\n",
      "param Sexuallytransmittedinfectionsrawvalue {c in Counties};\n",
      "param Teenbirthsrawvalue {c in Counties};\n",
      "param Uninsuredrawvalue {c in Counties};\n",
      "param Primarycarephysiciansrawvalue {c in Counties};\n",
      "param Dentistsrawvalue {c in Counties};\n",
      "param Preventablehospitalstaysrawvalue {c in Counties};\n",
      "param Mammographyscreeningrawvalue {c in Counties};\n",
      "param Fluvaccinationsrawvalue {c in Counties};\n",
      "param Highschoolgraduationrawvalue {c in Counties};\n",
      "param Somecollegerawvalue {c in Counties};\n",
      "param Unemploymentrawvalue {c in Counties};\n",
      "param Childreninpovertyrawvalue {c in Counties};\n",
      "param Incomeinequalityrawvalue {c in Counties};\n",
      "param Childreninsingleparenthouseholdsrawvalue {c in Counties};\n",
      "param Injurydeathsrawvalue {c in Counties};\n",
      "param Airpollutionparticulatematterrawvalue {c in Counties};\n",
      "param Drivingalonetoworkrawvalue {c in Counties};\n",
      "param Longcommutedrivingalonerawvalue {c in Counties};\n",
      "param Lifeexpectancyrawvalue {c in Counties};\n",
      "param Frequentphysicaldistressrawvalue {c in Counties};\n",
      "param Frequentmentaldistressrawvalue {c in Counties};\n",
      "param Diabetesprevalencerawvalue {c in Counties};\n",
      "param Foodinsecurityrawvalue {c in Counties};\n",
      "param Limitedaccesstohealthyfoodsrawvalue {c in Counties};\n",
      "param Insufficientsleeprawvalue {c in Counties};\n",
      "param Uninsuredadultsrawvalue {c in Counties};\n",
      "param Uninsuredchildrenrawvalue {c in Counties};\n",
      "param Medianhouseholdincomerawvalue {c in Counties};\n",
      "param Childreneligibleforfreeorreducedpricelunchrawvalue {c in Counties};\n",
      "param Homeownershiprawvalue {c in Counties};\n",
      "param Populationrawvalue {c in Counties};\n",
      "param below18yearsofagerawvalue {c in Counties};\n",
      "param NonHispanicAfricanAmericanrawvalue {c in Counties};\n",
      "param AmericanIndianandAlaskanNativerawvalue {c in Counties};\n",
      "param Asianrawvalue {c in Counties};\n",
      "param NativeHawaiianOtherPacificIslanderrawvalue {c in Counties};\n",
      "param Hispanicrawvalue {c in Counties};\n",
      "param NonHispanicwhiterawvalue {c in Counties};\n",
      "param notproficientinEnglishrawvalue {c in Counties};\n",
      "param Ruralrawvalue {c in Counties};\n"
     ]
    }
   ],
   "source": [
    "for i in range(0, len(x)):\n",
    "    print(f'param {x[i].replace(\" \",\"\").replace(\"-\",\"\").replace(\"%\",\"\").replace(\"/\",\"\")} '+'{c in Counties};')"
   ]
  },
  {
   "cell_type": "code",
   "execution_count": 135,
   "metadata": {
    "ExecuteTime": {
     "end_time": "2019-12-07T19:06:28.901190Z",
     "start_time": "2019-12-07T19:06:28.888574Z"
    }
   },
   "outputs": [
    {
     "name": "stdout",
     "output_type": "stream",
     "text": [
      "['Poor or fair health raw value', 'Poor physical health days raw value', 'Poor mental health days raw value', 'Low birthweight raw value', 'Adult smoking raw value', 'Adult obesity raw value', 'Food environment index raw value', 'Physical inactivity raw value', 'Access to exercise opportunities raw value', 'Excessive drinking raw value', 'Sexually transmitted infections raw value', 'Teen births raw value', 'Uninsured raw value', 'Primary care physicians raw value', 'Dentists raw value', 'Preventable hospital stays raw value', 'Mammography screening raw value', 'Flu vaccinations raw value', 'High school graduation raw value', 'Some college raw value', 'Unemployment raw value', 'Children in poverty raw value', 'Income inequality raw value', 'Children in single-parent households raw value', 'Injury deaths raw value', 'Air pollution - particulate matter raw value', 'Driving alone to work raw value', 'Long commute - driving alone raw value', 'Life expectancy raw value', 'Frequent physical distress raw value', 'Frequent mental distress raw value', 'Diabetes prevalence raw value', 'Food insecurity raw value', 'Limited access to healthy foods raw value', 'Insufficient sleep raw value', 'Uninsured adults raw value', 'Uninsured children raw value', 'Median household income raw value', 'Children eligible for free or reduced price lunch raw value', 'Homeownership raw value', 'Population raw value', '% below 18 years of age raw value', '% Non-Hispanic African American raw value', '% American Indian and Alaskan Native raw value', '% Asian raw value', '% Native Hawaiian/Other Pacific Islander raw value', '% Hispanic raw value', '% Non-Hispanic white raw value', '% not proficient in English raw value', '% Rural raw value']\n"
     ]
    }
   ],
   "source": [
    "print(x)"
   ]
  }
 ],
 "metadata": {
  "kernelspec": {
   "display_name": "Python 3",
   "language": "python",
   "name": "python3"
  },
  "language_info": {
   "codemirror_mode": {
    "name": "ipython",
    "version": 3
   },
   "file_extension": ".py",
   "mimetype": "text/x-python",
   "name": "python",
   "nbconvert_exporter": "python",
   "pygments_lexer": "ipython3",
   "version": "3.7.3"
  },
  "toc": {
   "base_numbering": 1,
   "nav_menu": {},
   "number_sections": true,
   "sideBar": true,
   "skip_h1_title": false,
   "title_cell": "Table of Contents",
   "title_sidebar": "Contents",
   "toc_cell": false,
   "toc_position": {},
   "toc_section_display": true,
   "toc_window_display": false
  },
  "varInspector": {
   "cols": {
    "lenName": 16,
    "lenType": 16,
    "lenVar": 40
   },
   "kernels_config": {
    "python": {
     "delete_cmd_postfix": "",
     "delete_cmd_prefix": "del ",
     "library": "var_list.py",
     "varRefreshCmd": "print(var_dic_list())"
    },
    "r": {
     "delete_cmd_postfix": ") ",
     "delete_cmd_prefix": "rm(",
     "library": "var_list.r",
     "varRefreshCmd": "cat(var_dic_list()) "
    }
   },
   "types_to_exclude": [
    "module",
    "function",
    "builtin_function_or_method",
    "instance",
    "_Feature"
   ],
   "window_display": false
  }
 },
 "nbformat": 4,
 "nbformat_minor": 2
}
