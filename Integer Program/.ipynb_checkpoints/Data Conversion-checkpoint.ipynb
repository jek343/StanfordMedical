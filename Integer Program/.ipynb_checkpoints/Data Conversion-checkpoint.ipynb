{
 "cells": [
  {
   "cell_type": "markdown",
   "metadata": {},
   "source": [
    "# Converts Data into Format for AMPL .dat "
   ]
  },
  {
   "cell_type": "code",
   "execution_count": 1,
   "metadata": {
    "ExecuteTime": {
     "end_time": "2019-11-02T16:34:08.620028Z",
     "start_time": "2019-11-02T16:34:07.515007Z"
    }
   },
   "outputs": [],
   "source": [
    "import pandas as pd\n",
    "import numpy as np"
   ]
  },
  {
   "cell_type": "code",
   "execution_count": 2,
   "metadata": {
    "ExecuteTime": {
     "end_time": "2019-11-02T16:34:08.646806Z",
     "start_time": "2019-11-02T16:34:08.621034Z"
    }
   },
   "outputs": [],
   "source": [
    "#Not required for the generation of output text file\n",
    "from tqdm import tqdm_notebook"
   ]
  },
  {
   "cell_type": "markdown",
   "metadata": {},
   "source": [
    "## Step 1: Resource Parameter"
   ]
  },
  {
   "cell_type": "markdown",
   "metadata": {},
   "source": [
    "* Money - the total amount of money that can be spent all counties\n",
    "* Increment - the level of precision that the model will consider, ex: increment = 100 means the money will spend either 0,100,200,300,... per county\n",
    "* Limit - Max that the model can spend on a county. Increment should evenly divide this number. Can be tuned later to adjust for computation time without changing optimal value"
   ]
  },
  {
   "cell_type": "code",
   "execution_count": 3,
   "metadata": {
    "ExecuteTime": {
     "end_time": "2019-11-02T16:34:08.657934Z",
     "start_time": "2019-11-02T16:34:08.651938Z"
    }
   },
   "outputs": [],
   "source": [
    "money = 100000000\n",
    "increment = 10000\n",
    "limit = 500000"
   ]
  },
  {
   "cell_type": "markdown",
   "metadata": {},
   "source": [
    "## Step 2: States & Entry Cost"
   ]
  },
  {
   "cell_type": "markdown",
   "metadata": {},
   "source": [
    "Read in CSV File with col1 as the states and col2 as the associated entry cost for that state"
   ]
  },
  {
   "cell_type": "code",
   "execution_count": 4,
   "metadata": {
    "ExecuteTime": {
     "end_time": "2019-11-02T16:34:08.684172Z",
     "start_time": "2019-11-02T16:34:08.662090Z"
    }
   },
   "outputs": [],
   "source": [
    "state = pd.read_csv(\"Text Files/StatesCost.csv\")"
   ]
  },
  {
   "cell_type": "code",
   "execution_count": 5,
   "metadata": {
    "ExecuteTime": {
     "end_time": "2019-11-02T16:34:08.692889Z",
     "start_time": "2019-11-02T16:34:08.688591Z"
    }
   },
   "outputs": [],
   "source": [
    "#state.head()"
   ]
  },
  {
   "cell_type": "markdown",
   "metadata": {},
   "source": [
    "## Step 3: Counties & Characteristics"
   ]
  },
  {
   "cell_type": "markdown",
   "metadata": {},
   "source": [
    "Read in CSV File with county characteristics"
   ]
  },
  {
   "cell_type": "code",
   "execution_count": 6,
   "metadata": {
    "ExecuteTime": {
     "end_time": "2019-11-02T16:34:08.719360Z",
     "start_time": "2019-11-02T16:34:08.698241Z"
    }
   },
   "outputs": [],
   "source": [
    "county = pd.read_csv(\"Text Files/CountyChar.csv\")"
   ]
  },
  {
   "cell_type": "code",
   "execution_count": 7,
   "metadata": {
    "ExecuteTime": {
     "end_time": "2019-11-02T16:34:08.730586Z",
     "start_time": "2019-11-02T16:34:08.724049Z"
    }
   },
   "outputs": [],
   "source": [
    "#county.head()"
   ]
  },
  {
   "cell_type": "markdown",
   "metadata": {},
   "source": [
    "## Step 4: Generate Pairs Parameter"
   ]
  },
  {
   "cell_type": "code",
   "execution_count": 8,
   "metadata": {
    "ExecuteTime": {
     "end_time": "2019-11-02T16:34:08.746167Z",
     "start_time": "2019-11-02T16:34:08.737667Z"
    }
   },
   "outputs": [],
   "source": [
    "pairs = pd.DataFrame(county[county.columns[0]])"
   ]
  },
  {
   "cell_type": "code",
   "execution_count": 9,
   "metadata": {
    "ExecuteTime": {
     "end_time": "2019-11-02T16:34:08.758714Z",
     "start_time": "2019-11-02T16:34:08.752034Z"
    }
   },
   "outputs": [],
   "source": [
    "#function to check if state is appended to the end of county\n",
    "def checkin(s_name, county):\n",
    "    if \",\" + s_name in county:\n",
    "        return 1\n",
    "    else:\n",
    "        return 0"
   ]
  },
  {
   "cell_type": "code",
   "execution_count": 10,
   "metadata": {
    "ExecuteTime": {
     "end_time": "2019-11-02T16:34:08.774507Z",
     "start_time": "2019-11-02T16:34:08.764031Z"
    }
   },
   "outputs": [],
   "source": [
    "#removes commas\n",
    "def namefix(county):\n",
    "    return county.replace(',','')"
   ]
  },
  {
   "cell_type": "code",
   "execution_count": 11,
   "metadata": {
    "ExecuteTime": {
     "end_time": "2019-11-02T16:34:08.787969Z",
     "start_time": "2019-11-02T16:34:08.775870Z"
    }
   },
   "outputs": [],
   "source": [
    "#removes spaces\n",
    "def spacefix(county):\n",
    "    return county.replace(' ','')"
   ]
  },
  {
   "cell_type": "code",
   "execution_count": 12,
   "metadata": {
    "ExecuteTime": {
     "end_time": "2019-11-02T16:34:08.799790Z",
     "start_time": "2019-11-02T16:34:08.792134Z"
    }
   },
   "outputs": [],
   "source": [
    "#removes '\n",
    "def apfix(county):\n",
    "    return county.replace(\"'\", '')"
   ]
  },
  {
   "cell_type": "code",
   "execution_count": 13,
   "metadata": {
    "ExecuteTime": {
     "end_time": "2019-11-02T16:34:08.981184Z",
     "start_time": "2019-11-02T16:34:08.804261Z"
    }
   },
   "outputs": [],
   "source": [
    "#creates the pairing using the above functions\n",
    "pairs[pairs.columns[0]] = pairs[pairs.columns[0]].apply(apfix)\n",
    "county[county.columns[0]] = county[county.columns[0]].apply(apfix)\n",
    "pairs[pairs.columns[0]] = pairs[pairs.columns[0]].apply(spacefix)\n",
    "county[county.columns[0]] = county[county.columns[0]].apply(spacefix)\n",
    "for state_name in state[state.columns[0]]:\n",
    "    pairs[state_name] = np.vectorize(checkin)(state_name, county[county.columns[0]])\n",
    "pairs[pairs.columns[0]] = pairs[pairs.columns[0]].apply(namefix)\n",
    "county[county.columns[0]] = county[county.columns[0]].apply(namefix)"
   ]
  },
  {
   "cell_type": "code",
   "execution_count": 14,
   "metadata": {
    "ExecuteTime": {
     "end_time": "2019-11-02T16:34:08.990851Z",
     "start_time": "2019-11-02T16:34:08.983326Z"
    }
   },
   "outputs": [],
   "source": [
    "#pairs.head()"
   ]
  },
  {
   "cell_type": "markdown",
   "metadata": {},
   "source": [
    "## Step 5: Run This"
   ]
  },
  {
   "cell_type": "code",
   "execution_count": 15,
   "metadata": {
    "ExecuteTime": {
     "end_time": "2019-11-02T16:34:09.002087Z",
     "start_time": "2019-11-02T16:34:08.995555Z"
    }
   },
   "outputs": [],
   "source": [
    "#Uncomment an run this cell if the first time using this file or if you want the output file to have a different name\n",
    "### %%writefile output.txt"
   ]
  },
  {
   "cell_type": "code",
   "execution_count": 16,
   "metadata": {
    "ExecuteTime": {
     "end_time": "2019-11-02T16:34:13.600163Z",
     "start_time": "2019-11-02T16:34:09.006713Z"
    }
   },
   "outputs": [],
   "source": [
    "#generates file\n",
    "with open(\"output.txt\", \"w\") as f:\n",
    "    f.write(\"param money := \" + str(money) + \";\")\n",
    "    f.write(\"\\n\")\n",
    "    f.write(\"param increment := \" + str(increment) + \";\")\n",
    "    f.write(\"\\n\")\n",
    "    f.write(\"param limit := \" + str(limit) + \";\")\n",
    "    f.write(\"\\n\")\n",
    "    \n",
    "    f.write(\"set States := \" )\n",
    "    f.write(\"\\n\")\n",
    "    for i in state.index:\n",
    "        f.write(state[state.columns[0]][i])\n",
    "        f.write(\"\\n\")\n",
    "    f.write(\";\")\n",
    "    f.write(\"\\n\")\n",
    "    \n",
    "    f.write(\"param entry_cost:=\")\n",
    "    f.write(\"\\n\")\n",
    "    for i in state.index:\n",
    "        f.write(state[state.columns[0]][i] + \"     \" + str(state[state.columns[1]][i]))\n",
    "        f.write(\"\\n\")\n",
    "    f.write(\";\")\n",
    "    f.write(\"\\n\")\n",
    "    \n",
    "    f.write(\"set Counties := \" )\n",
    "    f.write(\"\\n\")\n",
    "    for i in county.index:\n",
    "        f.write(county[county.columns[0]][i])\n",
    "        f.write(\"\\n\")\n",
    "    f.write(\";\")\n",
    "    f.write(\"\\n\")\n",
    "    \n",
    "    for col_name in county.columns:\n",
    "        if col_name != county.columns[0]:\n",
    "            f.write(\"param \" + col_name + \":=\")\n",
    "            for i in county.index:\n",
    "                f.write(county[county.columns[0]][i] + \"     \" + str(county[col_name][i]))\n",
    "                f.write(\"\\n\")\n",
    "            f.write(\";\")\n",
    "            f.write(\"\\n\")\n",
    "            \n",
    "    f.write(\"param Pairs: \")\n",
    "    for i in state.index:\n",
    "        f.write(state[state.columns[0]][i] + \" \")\n",
    "    f.write(\":=\")\n",
    "    f.write(\"\\n\")\n",
    "    for i in pairs.index:\n",
    "        for col in pairs.columns:\n",
    "            f.write(str(pairs[col][i]))\n",
    "            f.write(\" \")\n",
    "        f.write(\"\\n\")\n",
    "    f.write(\";\")"
   ]
  },
  {
   "cell_type": "markdown",
   "metadata": {},
   "source": [
    "# Determine Basline"
   ]
  },
  {
   "cell_type": "code",
   "execution_count": 17,
   "metadata": {
    "ExecuteTime": {
     "end_time": "2019-11-02T16:34:13.616650Z",
     "start_time": "2019-11-02T16:34:13.604085Z"
    }
   },
   "outputs": [],
   "source": [
    "#sample benefit function that should match whats being used in the .mod file\n",
    "def reduc(c1,c2,c3,i):\n",
    "    return c3 * 1/(1+c1*(1.001)**(-c2*i))"
   ]
  },
  {
   "cell_type": "code",
   "execution_count": 18,
   "metadata": {
    "ExecuteTime": {
     "end_time": "2019-11-02T16:34:13.632508Z",
     "start_time": "2019-11-02T16:34:13.620412Z"
    }
   },
   "outputs": [],
   "source": [
    "df = pd.DataFrame()"
   ]
  },
  {
   "cell_type": "markdown",
   "metadata": {},
   "source": [
    "Baselines at various levels:  \n",
    "n is the number of states to greedily choose  \n",
    "*Automate choice of n  \n",
    "*Make code more concise"
   ]
  },
  {
   "cell_type": "code",
   "execution_count": 19,
   "metadata": {
    "ExecuteTime": {
     "end_time": "2019-11-02T16:34:13.987404Z",
     "start_time": "2019-11-02T16:34:13.637756Z"
    }
   },
   "outputs": [
    {
     "data": {
      "text/plain": [
       "1196142.0385216908"
      ]
     },
     "execution_count": 19,
     "metadata": {},
     "output_type": "execute_result"
    }
   ],
   "source": [
    "df['County'] = county['County']\n",
    "n=1850\n",
    "new_col = []\n",
    "for i in range(df.shape[0]):\n",
    "     new_col.append(reduc(county['Char_1'][i],county['Char_2'][i],county['Char_3'][i],10_000))\n",
    "df['50k']=new_col\n",
    "sum(df['50k'].sort_values(ascending=False)[0:n])"
   ]
  },
  {
   "cell_type": "code",
   "execution_count": 20,
   "metadata": {
    "ExecuteTime": {
     "end_time": "2019-11-02T16:34:14.421507Z",
     "start_time": "2019-11-02T16:34:13.994399Z"
    }
   },
   "outputs": [
    {
     "data": {
      "text/plain": [
       "1398429.8144041542"
      ]
     },
     "execution_count": 20,
     "metadata": {},
     "output_type": "execute_result"
    }
   ],
   "source": [
    "new_col = []\n",
    "n=940\n",
    "for i in range(df.shape[0]):\n",
    "     new_col.append(reduc(county['Char_1'][i],county['Char_2'][i],county['Char_3'][i],100_000))\n",
    "df['100k']=new_col\n",
    "sum(df['100k'].sort_values(ascending=False)[0:n])"
   ]
  },
  {
   "cell_type": "code",
   "execution_count": 21,
   "metadata": {
    "ExecuteTime": {
     "end_time": "2019-11-02T16:34:14.726116Z",
     "start_time": "2019-11-02T16:34:14.422508Z"
    }
   },
   "outputs": [
    {
     "data": {
      "text/plain": [
       "2415905.552594636"
      ]
     },
     "execution_count": 21,
     "metadata": {},
     "output_type": "execute_result"
    }
   ],
   "source": [
    "new_col = []\n",
    "n=370\n",
    "for i in range(df.shape[0]):\n",
    "     new_col.append(reduc(county['Char_1'][i],county['Char_2'][i],county['Char_3'][i],250_000))\n",
    "df['250k']=new_col\n",
    "sum(df['250k'].sort_values(ascending=False)[0:n])"
   ]
  },
  {
   "cell_type": "code",
   "execution_count": 22,
   "metadata": {
    "ExecuteTime": {
     "end_time": "2019-11-02T16:34:15.052623Z",
     "start_time": "2019-11-02T16:34:14.730112Z"
    }
   },
   "outputs": [
    {
     "data": {
      "text/plain": [
       "9816332.625105586"
      ]
     },
     "execution_count": 22,
     "metadata": {},
     "output_type": "execute_result"
    }
   ],
   "source": [
    "new_col = []\n",
    "n=188\n",
    "for i in range(df.shape[0]):\n",
    "     new_col.append(reduc(county['Char_1'][i],county['Char_2'][i],county['Char_3'][i],500_000))\n",
    "df['500k']=new_col\n",
    "sum(df['500k'].sort_values(ascending=False)[0:188])"
   ]
  },
  {
   "cell_type": "code",
   "execution_count": 23,
   "metadata": {
    "ExecuteTime": {
     "end_time": "2019-11-02T16:34:15.533127Z",
     "start_time": "2019-11-02T16:34:15.062597Z"
    },
    "code_folding": []
   },
   "outputs": [
    {
     "data": {
      "text/plain": [
       "17326435.222843345"
      ]
     },
     "execution_count": 23,
     "metadata": {},
     "output_type": "execute_result"
    }
   ],
   "source": [
    "new_col = []\n",
    "n=120\n",
    "for i in range(df.shape[0]):\n",
    "     new_col.append(reduc(county['Char_1'][i],county['Char_2'][i],county['Char_3'][i],750_000))\n",
    "df['750k']=new_col\n",
    "sum(df['750k'].sort_values(ascending=False)[0:n])"
   ]
  },
  {
   "cell_type": "code",
   "execution_count": 24,
   "metadata": {
    "ExecuteTime": {
     "end_time": "2019-11-02T16:34:15.914234Z",
     "start_time": "2019-11-02T16:34:15.541376Z"
    },
    "code_folding": []
   },
   "outputs": [
    {
     "data": {
      "text/plain": [
       "21495294.035349485"
      ]
     },
     "execution_count": 24,
     "metadata": {},
     "output_type": "execute_result"
    }
   ],
   "source": [
    "new_col = []\n",
    "n=94\n",
    "for i in range(df.shape[0]):\n",
    "     new_col.append(reduc(county['Char_1'][i],county['Char_2'][i],county['Char_3'][i],1_000_000))\n",
    "df['1m']=new_col\n",
    "sum(df['1m'].sort_values(ascending=False)[0:n])"
   ]
  },
  {
   "cell_type": "markdown",
   "metadata": {},
   "source": []
  }
 ],
 "metadata": {
  "kernelspec": {
   "display_name": "Python 3",
   "language": "python",
   "name": "python3"
  },
  "language_info": {
   "codemirror_mode": {
    "name": "ipython",
    "version": 3
   },
   "file_extension": ".py",
   "mimetype": "text/x-python",
   "name": "python",
   "nbconvert_exporter": "python",
   "pygments_lexer": "ipython3",
   "version": "3.7.3"
  },
  "toc": {
   "base_numbering": 1,
   "nav_menu": {},
   "number_sections": true,
   "sideBar": true,
   "skip_h1_title": false,
   "title_cell": "Table of Contents",
   "title_sidebar": "Contents",
   "toc_cell": false,
   "toc_position": {},
   "toc_section_display": true,
   "toc_window_display": false
  },
  "varInspector": {
   "cols": {
    "lenName": 16,
    "lenType": 16,
    "lenVar": 40
   },
   "kernels_config": {
    "python": {
     "delete_cmd_postfix": "",
     "delete_cmd_prefix": "del ",
     "library": "var_list.py",
     "varRefreshCmd": "print(var_dic_list())"
    },
    "r": {
     "delete_cmd_postfix": ") ",
     "delete_cmd_prefix": "rm(",
     "library": "var_list.r",
     "varRefreshCmd": "cat(var_dic_list()) "
    }
   },
   "types_to_exclude": [
    "module",
    "function",
    "builtin_function_or_method",
    "instance",
    "_Feature"
   ],
   "window_display": false
  }
 },
 "nbformat": 4,
 "nbformat_minor": 2
}
