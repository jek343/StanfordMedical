{
 "cells": [
  {
   "cell_type": "markdown",
   "metadata": {},
   "source": [
    "# Converts Data into Format for AMPL .dat "
   ]
  },
  {
   "cell_type": "code",
   "execution_count": 1,
   "metadata": {
    "ExecuteTime": {
     "end_time": "2019-10-29T20:58:30.745835Z",
     "start_time": "2019-10-29T20:58:29.625364Z"
    }
   },
   "outputs": [],
   "source": [
    "import pandas as pd\n",
    "import numpy as np\n",
    "from tqdm import tqdm_notebook"
   ]
  },
  {
   "cell_type": "markdown",
   "metadata": {},
   "source": [
    "## Step 1: Resource Parameter"
   ]
  },
  {
   "cell_type": "markdown",
   "metadata": {},
   "source": [
    "* Money - the total amount of money that can be spent all counties\n",
    "* Increment - the level of precision that the model will consider, ex: increment = 100 means the money will spend either 0,100,200,300,... per county\n",
    "* Limit - Max that the model can spend on a county. Increment should evenly divide this number. Can be tuned later to adjust for computation time without changing optimal value"
   ]
  },
  {
   "cell_type": "code",
   "execution_count": 2,
   "metadata": {
    "ExecuteTime": {
     "end_time": "2019-10-29T20:58:30.757067Z",
     "start_time": "2019-10-29T20:58:30.750463Z"
    }
   },
   "outputs": [],
   "source": [
    "money = 100000000\n",
    "increment = 10000\n",
    "limit = 500000"
   ]
  },
  {
   "cell_type": "markdown",
   "metadata": {},
   "source": [
    "## Step 2: States & Entry Cost"
   ]
  },
  {
   "cell_type": "markdown",
   "metadata": {},
   "source": [
    "Read in CSV File with col1 as the states and col2 as the associated entry cost for that state"
   ]
  },
  {
   "cell_type": "code",
   "execution_count": 3,
   "metadata": {
    "ExecuteTime": {
     "end_time": "2019-10-29T20:58:30.788818Z",
     "start_time": "2019-10-29T20:58:30.761836Z"
    }
   },
   "outputs": [],
   "source": [
    "state = pd.read_csv(\"Text Files/StatesCost.csv\")"
   ]
  },
  {
   "cell_type": "code",
   "execution_count": 4,
   "metadata": {
    "ExecuteTime": {
     "end_time": "2019-10-29T20:58:30.829891Z",
     "start_time": "2019-10-29T20:58:30.793970Z"
    }
   },
   "outputs": [
    {
     "data": {
      "text/html": [
       "<div>\n",
       "<style scoped>\n",
       "    .dataframe tbody tr th:only-of-type {\n",
       "        vertical-align: middle;\n",
       "    }\n",
       "\n",
       "    .dataframe tbody tr th {\n",
       "        vertical-align: top;\n",
       "    }\n",
       "\n",
       "    .dataframe thead th {\n",
       "        text-align: right;\n",
       "    }\n",
       "</style>\n",
       "<table border=\"1\" class=\"dataframe\">\n",
       "  <thead>\n",
       "    <tr style=\"text-align: right;\">\n",
       "      <th></th>\n",
       "      <th>Unnamed: 0</th>\n",
       "      <th>Entry Cost</th>\n",
       "    </tr>\n",
       "  </thead>\n",
       "  <tbody>\n",
       "    <tr>\n",
       "      <th>0</th>\n",
       "      <td>Alabama</td>\n",
       "      <td>320000</td>\n",
       "    </tr>\n",
       "    <tr>\n",
       "      <th>1</th>\n",
       "      <td>Alaska</td>\n",
       "      <td>180000</td>\n",
       "    </tr>\n",
       "    <tr>\n",
       "      <th>2</th>\n",
       "      <td>Arizona</td>\n",
       "      <td>260000</td>\n",
       "    </tr>\n",
       "    <tr>\n",
       "      <th>3</th>\n",
       "      <td>Arkansas</td>\n",
       "      <td>390000</td>\n",
       "    </tr>\n",
       "    <tr>\n",
       "      <th>4</th>\n",
       "      <td>California</td>\n",
       "      <td>360000</td>\n",
       "    </tr>\n",
       "    <tr>\n",
       "      <th>5</th>\n",
       "      <td>Colorado</td>\n",
       "      <td>150000</td>\n",
       "    </tr>\n",
       "    <tr>\n",
       "      <th>6</th>\n",
       "      <td>Connecticut</td>\n",
       "      <td>370000</td>\n",
       "    </tr>\n",
       "    <tr>\n",
       "      <th>7</th>\n",
       "      <td>Delaware</td>\n",
       "      <td>310000</td>\n",
       "    </tr>\n",
       "    <tr>\n",
       "      <th>8</th>\n",
       "      <td>DistrictofColumbia</td>\n",
       "      <td>210000</td>\n",
       "    </tr>\n",
       "    <tr>\n",
       "      <th>9</th>\n",
       "      <td>Florida</td>\n",
       "      <td>380000</td>\n",
       "    </tr>\n",
       "    <tr>\n",
       "      <th>10</th>\n",
       "      <td>Georgia</td>\n",
       "      <td>210000</td>\n",
       "    </tr>\n",
       "    <tr>\n",
       "      <th>11</th>\n",
       "      <td>Hawaii</td>\n",
       "      <td>490000</td>\n",
       "    </tr>\n",
       "    <tr>\n",
       "      <th>12</th>\n",
       "      <td>Idaho</td>\n",
       "      <td>180000</td>\n",
       "    </tr>\n",
       "    <tr>\n",
       "      <th>13</th>\n",
       "      <td>Illinois</td>\n",
       "      <td>330000</td>\n",
       "    </tr>\n",
       "    <tr>\n",
       "      <th>14</th>\n",
       "      <td>Indiana</td>\n",
       "      <td>470000</td>\n",
       "    </tr>\n",
       "    <tr>\n",
       "      <th>15</th>\n",
       "      <td>Iowa</td>\n",
       "      <td>280000</td>\n",
       "    </tr>\n",
       "    <tr>\n",
       "      <th>16</th>\n",
       "      <td>Kansas</td>\n",
       "      <td>140000</td>\n",
       "    </tr>\n",
       "    <tr>\n",
       "      <th>17</th>\n",
       "      <td>Kentucky</td>\n",
       "      <td>380000</td>\n",
       "    </tr>\n",
       "    <tr>\n",
       "      <th>18</th>\n",
       "      <td>Louisiana</td>\n",
       "      <td>500000</td>\n",
       "    </tr>\n",
       "    <tr>\n",
       "      <th>19</th>\n",
       "      <td>Maine</td>\n",
       "      <td>180000</td>\n",
       "    </tr>\n",
       "    <tr>\n",
       "      <th>20</th>\n",
       "      <td>Maryland</td>\n",
       "      <td>110000</td>\n",
       "    </tr>\n",
       "    <tr>\n",
       "      <th>21</th>\n",
       "      <td>Massachusetts</td>\n",
       "      <td>380000</td>\n",
       "    </tr>\n",
       "    <tr>\n",
       "      <th>22</th>\n",
       "      <td>Michigan</td>\n",
       "      <td>360000</td>\n",
       "    </tr>\n",
       "    <tr>\n",
       "      <th>23</th>\n",
       "      <td>Minnesota</td>\n",
       "      <td>320000</td>\n",
       "    </tr>\n",
       "    <tr>\n",
       "      <th>24</th>\n",
       "      <td>Mississippi</td>\n",
       "      <td>340000</td>\n",
       "    </tr>\n",
       "    <tr>\n",
       "      <th>25</th>\n",
       "      <td>Missouri</td>\n",
       "      <td>480000</td>\n",
       "    </tr>\n",
       "    <tr>\n",
       "      <th>26</th>\n",
       "      <td>Montana</td>\n",
       "      <td>360000</td>\n",
       "    </tr>\n",
       "    <tr>\n",
       "      <th>27</th>\n",
       "      <td>Nebraska</td>\n",
       "      <td>460000</td>\n",
       "    </tr>\n",
       "    <tr>\n",
       "      <th>28</th>\n",
       "      <td>Nevada</td>\n",
       "      <td>290000</td>\n",
       "    </tr>\n",
       "    <tr>\n",
       "      <th>29</th>\n",
       "      <td>NewHampshire</td>\n",
       "      <td>250000</td>\n",
       "    </tr>\n",
       "  </tbody>\n",
       "</table>\n",
       "</div>"
      ],
      "text/plain": [
       "            Unnamed: 0  Entry Cost\n",
       "0              Alabama      320000\n",
       "1               Alaska      180000\n",
       "2              Arizona      260000\n",
       "3             Arkansas      390000\n",
       "4           California      360000\n",
       "5             Colorado      150000\n",
       "6          Connecticut      370000\n",
       "7             Delaware      310000\n",
       "8   DistrictofColumbia      210000\n",
       "9              Florida      380000\n",
       "10             Georgia      210000\n",
       "11              Hawaii      490000\n",
       "12               Idaho      180000\n",
       "13            Illinois      330000\n",
       "14             Indiana      470000\n",
       "15                Iowa      280000\n",
       "16              Kansas      140000\n",
       "17            Kentucky      380000\n",
       "18           Louisiana      500000\n",
       "19               Maine      180000\n",
       "20            Maryland      110000\n",
       "21       Massachusetts      380000\n",
       "22            Michigan      360000\n",
       "23           Minnesota      320000\n",
       "24         Mississippi      340000\n",
       "25            Missouri      480000\n",
       "26             Montana      360000\n",
       "27            Nebraska      460000\n",
       "28              Nevada      290000\n",
       "29        NewHampshire      250000"
      ]
     },
     "execution_count": 4,
     "metadata": {},
     "output_type": "execute_result"
    }
   ],
   "source": [
    "state.head(30)"
   ]
  },
  {
   "cell_type": "markdown",
   "metadata": {},
   "source": [
    "## Step 3: Counties & Characteristics"
   ]
  },
  {
   "cell_type": "code",
   "execution_count": 5,
   "metadata": {
    "ExecuteTime": {
     "end_time": "2019-10-29T20:58:30.858014Z",
     "start_time": "2019-10-29T20:58:30.835617Z"
    }
   },
   "outputs": [],
   "source": [
    "county = pd.read_csv(\"Text Files/CountyChar.csv\")"
   ]
  },
  {
   "cell_type": "code",
   "execution_count": 6,
   "metadata": {
    "ExecuteTime": {
     "end_time": "2019-10-29T20:58:30.885447Z",
     "start_time": "2019-10-29T20:58:30.864546Z"
    }
   },
   "outputs": [
    {
     "data": {
      "text/html": [
       "<div>\n",
       "<style scoped>\n",
       "    .dataframe tbody tr th:only-of-type {\n",
       "        vertical-align: middle;\n",
       "    }\n",
       "\n",
       "    .dataframe tbody tr th {\n",
       "        vertical-align: top;\n",
       "    }\n",
       "\n",
       "    .dataframe thead th {\n",
       "        text-align: right;\n",
       "    }\n",
       "</style>\n",
       "<table border=\"1\" class=\"dataframe\">\n",
       "  <thead>\n",
       "    <tr style=\"text-align: right;\">\n",
       "      <th></th>\n",
       "      <th>County</th>\n",
       "      <th>Char_1</th>\n",
       "      <th>Char_2</th>\n",
       "      <th>Char_3</th>\n",
       "    </tr>\n",
       "  </thead>\n",
       "  <tbody>\n",
       "    <tr>\n",
       "      <th>0</th>\n",
       "      <td>AutaugaCounty,Alabama</td>\n",
       "      <td>274</td>\n",
       "      <td>0.00866</td>\n",
       "      <td>35000</td>\n",
       "    </tr>\n",
       "    <tr>\n",
       "      <th>1</th>\n",
       "      <td>BaldwinCounty,Alabama</td>\n",
       "      <td>297</td>\n",
       "      <td>0.00872</td>\n",
       "      <td>197000</td>\n",
       "    </tr>\n",
       "    <tr>\n",
       "      <th>2</th>\n",
       "      <td>BarbourCounty,Alabama</td>\n",
       "      <td>111</td>\n",
       "      <td>0.00189</td>\n",
       "      <td>30000</td>\n",
       "    </tr>\n",
       "    <tr>\n",
       "      <th>3</th>\n",
       "      <td>BibbCounty,Alabama</td>\n",
       "      <td>293</td>\n",
       "      <td>0.00666</td>\n",
       "      <td>173000</td>\n",
       "    </tr>\n",
       "    <tr>\n",
       "      <th>4</th>\n",
       "      <td>BlountCounty,Alabama</td>\n",
       "      <td>292</td>\n",
       "      <td>0.00846</td>\n",
       "      <td>47000</td>\n",
       "    </tr>\n",
       "  </tbody>\n",
       "</table>\n",
       "</div>"
      ],
      "text/plain": [
       "                  County  Char_1   Char_2  Char_3\n",
       "0  AutaugaCounty,Alabama     274  0.00866   35000\n",
       "1  BaldwinCounty,Alabama     297  0.00872  197000\n",
       "2  BarbourCounty,Alabama     111  0.00189   30000\n",
       "3     BibbCounty,Alabama     293  0.00666  173000\n",
       "4   BlountCounty,Alabama     292  0.00846   47000"
      ]
     },
     "execution_count": 6,
     "metadata": {},
     "output_type": "execute_result"
    }
   ],
   "source": [
    "county.head()"
   ]
  },
  {
   "cell_type": "markdown",
   "metadata": {},
   "source": [
    "## Step 4: Generate Pairs Parameter"
   ]
  },
  {
   "cell_type": "code",
   "execution_count": 7,
   "metadata": {
    "ExecuteTime": {
     "end_time": "2019-10-29T20:58:30.896975Z",
     "start_time": "2019-10-29T20:58:30.889119Z"
    }
   },
   "outputs": [],
   "source": [
    "pairs = pd.DataFrame(county[county.columns[0]])"
   ]
  },
  {
   "cell_type": "code",
   "execution_count": 8,
   "metadata": {
    "ExecuteTime": {
     "end_time": "2019-10-29T20:58:30.908714Z",
     "start_time": "2019-10-29T20:58:30.902677Z"
    }
   },
   "outputs": [],
   "source": [
    "def checkin(s_name, county):\n",
    "    if \",\" + s_name in county:\n",
    "        return 1\n",
    "    else:\n",
    "        return 0"
   ]
  },
  {
   "cell_type": "code",
   "execution_count": 9,
   "metadata": {
    "ExecuteTime": {
     "end_time": "2019-10-29T20:58:30.920108Z",
     "start_time": "2019-10-29T20:58:30.915044Z"
    }
   },
   "outputs": [],
   "source": [
    "def namefix(county):\n",
    "    return county.replace(',','')"
   ]
  },
  {
   "cell_type": "code",
   "execution_count": 10,
   "metadata": {
    "ExecuteTime": {
     "end_time": "2019-10-29T20:58:30.931801Z",
     "start_time": "2019-10-29T20:58:30.925519Z"
    }
   },
   "outputs": [],
   "source": [
    "def spacefix(county):\n",
    "    return county.replace(' ','')"
   ]
  },
  {
   "cell_type": "code",
   "execution_count": 11,
   "metadata": {
    "ExecuteTime": {
     "end_time": "2019-10-29T20:58:30.947243Z",
     "start_time": "2019-10-29T20:58:30.935615Z"
    }
   },
   "outputs": [],
   "source": [
    "def apfix(county):\n",
    "    return county.replace(\"'\", '')"
   ]
  },
  {
   "cell_type": "code",
   "execution_count": 12,
   "metadata": {
    "ExecuteTime": {
     "end_time": "2019-10-29T20:58:31.161350Z",
     "start_time": "2019-10-29T20:58:30.952415Z"
    }
   },
   "outputs": [],
   "source": [
    "pairs[pairs.columns[0]] = pairs[pairs.columns[0]].apply(apfix)\n",
    "county[county.columns[0]] = county[county.columns[0]].apply(apfix)\n",
    "pairs[pairs.columns[0]] = pairs[pairs.columns[0]].apply(spacefix)\n",
    "county[county.columns[0]] = county[county.columns[0]].apply(spacefix)\n",
    "for state_name in state[state.columns[0]]:\n",
    "    pairs[state_name] = np.vectorize(checkin)(state_name, county[county.columns[0]])\n",
    "pairs[pairs.columns[0]] = pairs[pairs.columns[0]].apply(namefix)\n",
    "county[county.columns[0]] = county[county.columns[0]].apply(namefix)"
   ]
  },
  {
   "cell_type": "code",
   "execution_count": 13,
   "metadata": {
    "ExecuteTime": {
     "end_time": "2019-10-29T20:58:31.205916Z",
     "start_time": "2019-10-29T20:58:31.165491Z"
    }
   },
   "outputs": [
    {
     "data": {
      "text/html": [
       "<div>\n",
       "<style scoped>\n",
       "    .dataframe tbody tr th:only-of-type {\n",
       "        vertical-align: middle;\n",
       "    }\n",
       "\n",
       "    .dataframe tbody tr th {\n",
       "        vertical-align: top;\n",
       "    }\n",
       "\n",
       "    .dataframe thead th {\n",
       "        text-align: right;\n",
       "    }\n",
       "</style>\n",
       "<table border=\"1\" class=\"dataframe\">\n",
       "  <thead>\n",
       "    <tr style=\"text-align: right;\">\n",
       "      <th></th>\n",
       "      <th>County</th>\n",
       "      <th>Alabama</th>\n",
       "      <th>Alaska</th>\n",
       "      <th>Arizona</th>\n",
       "      <th>Arkansas</th>\n",
       "      <th>California</th>\n",
       "      <th>Colorado</th>\n",
       "      <th>Connecticut</th>\n",
       "      <th>Delaware</th>\n",
       "      <th>DistrictofColumbia</th>\n",
       "      <th>...</th>\n",
       "      <th>SouthDakota</th>\n",
       "      <th>Tennessee</th>\n",
       "      <th>Texas</th>\n",
       "      <th>Utah</th>\n",
       "      <th>Vermont</th>\n",
       "      <th>Virginia</th>\n",
       "      <th>Washington</th>\n",
       "      <th>WestVirginia</th>\n",
       "      <th>Wisconsin</th>\n",
       "      <th>Wyoming</th>\n",
       "    </tr>\n",
       "  </thead>\n",
       "  <tbody>\n",
       "    <tr>\n",
       "      <th>0</th>\n",
       "      <td>AutaugaCountyAlabama</td>\n",
       "      <td>1</td>\n",
       "      <td>0</td>\n",
       "      <td>0</td>\n",
       "      <td>0</td>\n",
       "      <td>0</td>\n",
       "      <td>0</td>\n",
       "      <td>0</td>\n",
       "      <td>0</td>\n",
       "      <td>0</td>\n",
       "      <td>...</td>\n",
       "      <td>0</td>\n",
       "      <td>0</td>\n",
       "      <td>0</td>\n",
       "      <td>0</td>\n",
       "      <td>0</td>\n",
       "      <td>0</td>\n",
       "      <td>0</td>\n",
       "      <td>0</td>\n",
       "      <td>0</td>\n",
       "      <td>0</td>\n",
       "    </tr>\n",
       "    <tr>\n",
       "      <th>1</th>\n",
       "      <td>BaldwinCountyAlabama</td>\n",
       "      <td>1</td>\n",
       "      <td>0</td>\n",
       "      <td>0</td>\n",
       "      <td>0</td>\n",
       "      <td>0</td>\n",
       "      <td>0</td>\n",
       "      <td>0</td>\n",
       "      <td>0</td>\n",
       "      <td>0</td>\n",
       "      <td>...</td>\n",
       "      <td>0</td>\n",
       "      <td>0</td>\n",
       "      <td>0</td>\n",
       "      <td>0</td>\n",
       "      <td>0</td>\n",
       "      <td>0</td>\n",
       "      <td>0</td>\n",
       "      <td>0</td>\n",
       "      <td>0</td>\n",
       "      <td>0</td>\n",
       "    </tr>\n",
       "    <tr>\n",
       "      <th>2</th>\n",
       "      <td>BarbourCountyAlabama</td>\n",
       "      <td>1</td>\n",
       "      <td>0</td>\n",
       "      <td>0</td>\n",
       "      <td>0</td>\n",
       "      <td>0</td>\n",
       "      <td>0</td>\n",
       "      <td>0</td>\n",
       "      <td>0</td>\n",
       "      <td>0</td>\n",
       "      <td>...</td>\n",
       "      <td>0</td>\n",
       "      <td>0</td>\n",
       "      <td>0</td>\n",
       "      <td>0</td>\n",
       "      <td>0</td>\n",
       "      <td>0</td>\n",
       "      <td>0</td>\n",
       "      <td>0</td>\n",
       "      <td>0</td>\n",
       "      <td>0</td>\n",
       "    </tr>\n",
       "    <tr>\n",
       "      <th>3</th>\n",
       "      <td>BibbCountyAlabama</td>\n",
       "      <td>1</td>\n",
       "      <td>0</td>\n",
       "      <td>0</td>\n",
       "      <td>0</td>\n",
       "      <td>0</td>\n",
       "      <td>0</td>\n",
       "      <td>0</td>\n",
       "      <td>0</td>\n",
       "      <td>0</td>\n",
       "      <td>...</td>\n",
       "      <td>0</td>\n",
       "      <td>0</td>\n",
       "      <td>0</td>\n",
       "      <td>0</td>\n",
       "      <td>0</td>\n",
       "      <td>0</td>\n",
       "      <td>0</td>\n",
       "      <td>0</td>\n",
       "      <td>0</td>\n",
       "      <td>0</td>\n",
       "    </tr>\n",
       "    <tr>\n",
       "      <th>4</th>\n",
       "      <td>BlountCountyAlabama</td>\n",
       "      <td>1</td>\n",
       "      <td>0</td>\n",
       "      <td>0</td>\n",
       "      <td>0</td>\n",
       "      <td>0</td>\n",
       "      <td>0</td>\n",
       "      <td>0</td>\n",
       "      <td>0</td>\n",
       "      <td>0</td>\n",
       "      <td>...</td>\n",
       "      <td>0</td>\n",
       "      <td>0</td>\n",
       "      <td>0</td>\n",
       "      <td>0</td>\n",
       "      <td>0</td>\n",
       "      <td>0</td>\n",
       "      <td>0</td>\n",
       "      <td>0</td>\n",
       "      <td>0</td>\n",
       "      <td>0</td>\n",
       "    </tr>\n",
       "  </tbody>\n",
       "</table>\n",
       "<p>5 rows × 52 columns</p>\n",
       "</div>"
      ],
      "text/plain": [
       "                 County  Alabama  Alaska  Arizona  Arkansas  California  \\\n",
       "0  AutaugaCountyAlabama        1       0        0         0           0   \n",
       "1  BaldwinCountyAlabama        1       0        0         0           0   \n",
       "2  BarbourCountyAlabama        1       0        0         0           0   \n",
       "3     BibbCountyAlabama        1       0        0         0           0   \n",
       "4   BlountCountyAlabama        1       0        0         0           0   \n",
       "\n",
       "   Colorado  Connecticut  Delaware  DistrictofColumbia  ...  SouthDakota  \\\n",
       "0         0            0         0                   0  ...            0   \n",
       "1         0            0         0                   0  ...            0   \n",
       "2         0            0         0                   0  ...            0   \n",
       "3         0            0         0                   0  ...            0   \n",
       "4         0            0         0                   0  ...            0   \n",
       "\n",
       "   Tennessee  Texas  Utah  Vermont  Virginia  Washington  WestVirginia  \\\n",
       "0          0      0     0        0         0           0             0   \n",
       "1          0      0     0        0         0           0             0   \n",
       "2          0      0     0        0         0           0             0   \n",
       "3          0      0     0        0         0           0             0   \n",
       "4          0      0     0        0         0           0             0   \n",
       "\n",
       "   Wisconsin  Wyoming  \n",
       "0          0        0  \n",
       "1          0        0  \n",
       "2          0        0  \n",
       "3          0        0  \n",
       "4          0        0  \n",
       "\n",
       "[5 rows x 52 columns]"
      ]
     },
     "execution_count": 13,
     "metadata": {},
     "output_type": "execute_result"
    }
   ],
   "source": [
    "pairs.head()"
   ]
  },
  {
   "cell_type": "markdown",
   "metadata": {},
   "source": [
    "## Step 5: Run This Cell"
   ]
  },
  {
   "cell_type": "code",
   "execution_count": 14,
   "metadata": {
    "ExecuteTime": {
     "end_time": "2019-10-29T20:58:31.214457Z",
     "start_time": "2019-10-29T20:58:31.205916Z"
    }
   },
   "outputs": [],
   "source": [
    "# %%writefile output.txt"
   ]
  },
  {
   "cell_type": "code",
   "execution_count": 15,
   "metadata": {
    "ExecuteTime": {
     "end_time": "2019-10-29T20:58:35.713386Z",
     "start_time": "2019-10-29T20:58:31.219850Z"
    }
   },
   "outputs": [],
   "source": [
    "with open(\"output.txt\", \"w\") as f:\n",
    "    f.write(\"param money := \" + str(money) + \";\")\n",
    "    f.write(\"\\n\")\n",
    "    f.write(\"param increment := \" + str(increment) + \";\")\n",
    "    f.write(\"\\n\")\n",
    "    f.write(\"param limit := \" + str(limit) + \";\")\n",
    "    f.write(\"\\n\")\n",
    "    \n",
    "    f.write(\"set States := \" )\n",
    "    f.write(\"\\n\")\n",
    "    for i in state.index:\n",
    "        f.write(state[state.columns[0]][i])\n",
    "        f.write(\"\\n\")\n",
    "    f.write(\";\")\n",
    "    f.write(\"\\n\")\n",
    "    \n",
    "    f.write(\"param entry_cost:=\")\n",
    "    f.write(\"\\n\")\n",
    "    for i in state.index:\n",
    "        f.write(state[state.columns[0]][i] + \"     \" + str(state[state.columns[1]][i]))\n",
    "        f.write(\"\\n\")\n",
    "    f.write(\";\")\n",
    "    f.write(\"\\n\")\n",
    "    \n",
    "    f.write(\"set Counties := \" )\n",
    "    f.write(\"\\n\")\n",
    "    for i in county.index:\n",
    "        f.write(county[county.columns[0]][i])\n",
    "        f.write(\"\\n\")\n",
    "    f.write(\";\")\n",
    "    f.write(\"\\n\")\n",
    "    \n",
    "    for col_name in county.columns:\n",
    "        if col_name != county.columns[0]:\n",
    "            f.write(\"param \" + col_name + \":=\")\n",
    "            for i in county.index:\n",
    "                f.write(county[county.columns[0]][i] + \"     \" + str(county[col_name][i]))\n",
    "                f.write(\"\\n\")\n",
    "            f.write(\";\")\n",
    "            f.write(\"\\n\")\n",
    "            \n",
    "    f.write(\"param Pairs: \")\n",
    "    for i in state.index:\n",
    "        f.write(state[state.columns[0]][i] + \" \")\n",
    "    f.write(\":=\")\n",
    "    f.write(\"\\n\")\n",
    "    for i in pairs.index:\n",
    "        for col in pairs.columns:\n",
    "            f.write(str(pairs[col][i]))\n",
    "            f.write(\" \")\n",
    "        f.write(\"\\n\")\n",
    "    f.write(\";\")"
   ]
  },
  {
   "cell_type": "markdown",
   "metadata": {},
   "source": [
    "# Determine Basline"
   ]
  },
  {
   "cell_type": "code",
   "execution_count": 29,
   "metadata": {
    "ExecuteTime": {
     "end_time": "2019-10-29T20:59:46.181010Z",
     "start_time": "2019-10-29T20:59:46.171354Z"
    }
   },
   "outputs": [],
   "source": [
    "def reduc(c1,c2,c3,i):\n",
    "    return c3 * 1/(1+c1*(1.001)**(-c2*i))"
   ]
  },
  {
   "cell_type": "code",
   "execution_count": 17,
   "metadata": {
    "ExecuteTime": {
     "end_time": "2019-10-29T20:58:35.737358Z",
     "start_time": "2019-10-29T20:58:35.730261Z"
    }
   },
   "outputs": [],
   "source": [
    "df = pd.DataFrame()"
   ]
  },
  {
   "cell_type": "code",
   "execution_count": 30,
   "metadata": {
    "ExecuteTime": {
     "end_time": "2019-10-29T20:59:48.574216Z",
     "start_time": "2019-10-29T20:59:48.322394Z"
    }
   },
   "outputs": [
    {
     "data": {
      "text/plain": [
       "1196142.0385216908"
      ]
     },
     "execution_count": 30,
     "metadata": {},
     "output_type": "execute_result"
    }
   ],
   "source": [
    "df['County'] = county['County']\n",
    "new_col = []\n",
    "for i in range(df.shape[0]):\n",
    "     new_col.append(reduc(county['Char_1'][i],county['Char_2'][i],county['Char_3'][i],10_000))\n",
    "df['50k']=new_col\n",
    "sum(df['50k'].sort_values(ascending=False)[0:1850])"
   ]
  },
  {
   "cell_type": "code",
   "execution_count": 31,
   "metadata": {
    "ExecuteTime": {
     "end_time": "2019-10-29T20:59:50.946489Z",
     "start_time": "2019-10-29T20:59:50.650343Z"
    }
   },
   "outputs": [
    {
     "data": {
      "text/plain": [
       "1398429.8144041542"
      ]
     },
     "execution_count": 31,
     "metadata": {},
     "output_type": "execute_result"
    }
   ],
   "source": [
    "new_col = []\n",
    "for i in range(df.shape[0]):\n",
    "     new_col.append(reduc(county['Char_1'][i],county['Char_2'][i],county['Char_3'][i],100_000))\n",
    "df['100k']=new_col\n",
    "sum(df['100k'].sort_values(ascending=False)[0:940])"
   ]
  },
  {
   "cell_type": "code",
   "execution_count": 32,
   "metadata": {
    "ExecuteTime": {
     "end_time": "2019-10-29T20:59:53.393932Z",
     "start_time": "2019-10-29T20:59:53.116152Z"
    }
   },
   "outputs": [
    {
     "data": {
      "text/plain": [
       "2415905.552594636"
      ]
     },
     "execution_count": 32,
     "metadata": {},
     "output_type": "execute_result"
    }
   ],
   "source": [
    "new_col = []\n",
    "for i in range(df.shape[0]):\n",
    "     new_col.append(reduc(county['Char_1'][i],county['Char_2'][i],county['Char_3'][i],250_000))\n",
    "df['250k']=new_col\n",
    "sum(df['250k'].sort_values(ascending=False)[0:370])"
   ]
  },
  {
   "cell_type": "code",
   "execution_count": 40,
   "metadata": {
    "ExecuteTime": {
     "end_time": "2019-10-29T22:47:42.053035Z",
     "start_time": "2019-10-29T22:47:41.762386Z"
    }
   },
   "outputs": [
    {
     "data": {
      "text/plain": [
       "9816332.625105586"
      ]
     },
     "execution_count": 40,
     "metadata": {},
     "output_type": "execute_result"
    }
   ],
   "source": [
    "new_col = []\n",
    "for i in range(df.shape[0]):\n",
    "     new_col.append(reduc(county['Char_1'][i],county['Char_2'][i],county['Char_3'][i],500_000))\n",
    "df['500k']=new_col\n",
    "sum(df['500k'].sort_values(ascending=False)[0:188])"
   ]
  },
  {
   "cell_type": "code",
   "execution_count": 42,
   "metadata": {
    "ExecuteTime": {
     "end_time": "2019-10-29T22:49:17.171169Z",
     "start_time": "2019-10-29T22:49:16.906321Z"
    }
   },
   "outputs": [
    {
     "data": {
      "text/plain": [
       "17326435.222843345"
      ]
     },
     "execution_count": 42,
     "metadata": {},
     "output_type": "execute_result"
    }
   ],
   "source": [
    "new_col = []\n",
    "for i in range(df.shape[0]):\n",
    "     new_col.append(reduc(county['Char_1'][i],county['Char_2'][i],county['Char_3'][i],750_000))\n",
    "df['750k']=new_col\n",
    "sum(df['750k'].sort_values(ascending=False)[0:120])"
   ]
  },
  {
   "cell_type": "code",
   "execution_count": 39,
   "metadata": {
    "ExecuteTime": {
     "end_time": "2019-10-29T21:57:37.886425Z",
     "start_time": "2019-10-29T21:57:37.614493Z"
    }
   },
   "outputs": [
    {
     "data": {
      "text/plain": [
       "17129294.12056565"
      ]
     },
     "execution_count": 39,
     "metadata": {},
     "output_type": "execute_result"
    }
   ],
   "source": [
    "new_col = []\n",
    "for i in range(df.shape[0]):\n",
    "     new_col.append(reduc(county['Char_1'][i],county['Char_2'][i],county['Char_3'][i],1_000_000))\n",
    "df['1m']=new_col\n",
    "sum(df['1m'].sort_values(ascending=False)[0:94])"
   ]
  }
 ],
 "metadata": {
  "kernelspec": {
   "display_name": "Python 3",
   "language": "python",
   "name": "python3"
  },
  "language_info": {
   "codemirror_mode": {
    "name": "ipython",
    "version": 3
   },
   "file_extension": ".py",
   "mimetype": "text/x-python",
   "name": "python",
   "nbconvert_exporter": "python",
   "pygments_lexer": "ipython3",
   "version": "3.7.3"
  },
  "toc": {
   "base_numbering": 1,
   "nav_menu": {},
   "number_sections": true,
   "sideBar": true,
   "skip_h1_title": false,
   "title_cell": "Table of Contents",
   "title_sidebar": "Contents",
   "toc_cell": false,
   "toc_position": {},
   "toc_section_display": true,
   "toc_window_display": false
  },
  "varInspector": {
   "cols": {
    "lenName": 16,
    "lenType": 16,
    "lenVar": 40
   },
   "kernels_config": {
    "python": {
     "delete_cmd_postfix": "",
     "delete_cmd_prefix": "del ",
     "library": "var_list.py",
     "varRefreshCmd": "print(var_dic_list())"
    },
    "r": {
     "delete_cmd_postfix": ") ",
     "delete_cmd_prefix": "rm(",
     "library": "var_list.r",
     "varRefreshCmd": "cat(var_dic_list()) "
    }
   },
   "types_to_exclude": [
    "module",
    "function",
    "builtin_function_or_method",
    "instance",
    "_Feature"
   ],
   "window_display": false
  }
 },
 "nbformat": 4,
 "nbformat_minor": 2
}
