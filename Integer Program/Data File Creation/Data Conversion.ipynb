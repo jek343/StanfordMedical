{
 "cells": [
  {
   "cell_type": "markdown",
   "metadata": {},
   "source": [
    "# Converts Data into Format for AMPL .dat "
   ]
  },
  {
   "cell_type": "code",
   "execution_count": 26,
   "metadata": {
    "ExecuteTime": {
     "end_time": "2019-11-02T16:57:11.701048Z",
     "start_time": "2019-11-02T16:57:11.694180Z"
    }
   },
   "outputs": [],
   "source": [
    "import pandas as pd\n",
    "import numpy as np"
   ]
  },
  {
   "cell_type": "code",
   "execution_count": 27,
   "metadata": {
    "ExecuteTime": {
     "end_time": "2019-11-02T16:57:11.712120Z",
     "start_time": "2019-11-02T16:57:11.705834Z"
    }
   },
   "outputs": [],
   "source": [
    "#Not required for the generation of output text file\n",
    "from tqdm import tqdm_notebook"
   ]
  },
  {
   "cell_type": "markdown",
   "metadata": {},
   "source": [
    "## Step 1: Resource Parameter"
   ]
  },
  {
   "cell_type": "markdown",
   "metadata": {},
   "source": [
    "* Money - the total amount of money that can be spent all counties\n",
    "* Increment - the level of precision that the model will consider, ex: increment = 100 means the money will spend either 0,100,200,300,... per county\n",
    "* Limit - Max that the model can spend on a county. Increment should evenly divide this number. Can be tuned later to adjust for computation time without changing optimal value"
   ]
  },
  {
   "cell_type": "code",
   "execution_count": 28,
   "metadata": {
    "ExecuteTime": {
     "end_time": "2019-11-02T16:57:11.723162Z",
     "start_time": "2019-11-02T16:57:11.717090Z"
    }
   },
   "outputs": [],
   "source": [
    "money = 100000000\n",
    "increment = 10000\n",
    "limit = 500000"
   ]
  },
  {
   "cell_type": "markdown",
   "metadata": {},
   "source": [
    "## Step 2: States & Entry Cost"
   ]
  },
  {
   "cell_type": "markdown",
   "metadata": {},
   "source": [
    "Read in CSV File with col1 as the states and col2 as the associated entry cost for that state"
   ]
  },
  {
   "cell_type": "code",
   "execution_count": 29,
   "metadata": {
    "ExecuteTime": {
     "end_time": "2019-11-02T16:57:11.742903Z",
     "start_time": "2019-11-02T16:57:11.729216Z"
    }
   },
   "outputs": [],
   "source": [
    "state = pd.read_csv(\"Text Files/StatesCost.csv\")"
   ]
  },
  {
   "cell_type": "code",
   "execution_count": 30,
   "metadata": {
    "ExecuteTime": {
     "end_time": "2019-11-02T16:57:11.751714Z",
     "start_time": "2019-11-02T16:57:11.746467Z"
    }
   },
   "outputs": [],
   "source": [
    "#state.head()"
   ]
  },
  {
   "cell_type": "markdown",
   "metadata": {},
   "source": [
    "## Step 3: Counties & Characteristics"
   ]
  },
  {
   "cell_type": "markdown",
   "metadata": {},
   "source": [
    "Read in CSV File with county characteristics"
   ]
  },
  {
   "cell_type": "code",
   "execution_count": 31,
   "metadata": {
    "ExecuteTime": {
     "end_time": "2019-11-02T16:57:11.778336Z",
     "start_time": "2019-11-02T16:57:11.756497Z"
    }
   },
   "outputs": [],
   "source": [
    "county = pd.read_csv(\"Text Files/CountyChar.csv\")"
   ]
  },
  {
   "cell_type": "code",
   "execution_count": 32,
   "metadata": {
    "ExecuteTime": {
     "end_time": "2019-11-02T16:57:11.790787Z",
     "start_time": "2019-11-02T16:57:11.784115Z"
    }
   },
   "outputs": [],
   "source": [
    "#county.head()"
   ]
  },
  {
   "cell_type": "markdown",
   "metadata": {},
   "source": [
    "## Step 4: Generate Pairs Parameter"
   ]
  },
  {
   "cell_type": "code",
   "execution_count": 33,
   "metadata": {
    "ExecuteTime": {
     "end_time": "2019-11-02T16:57:11.808819Z",
     "start_time": "2019-11-02T16:57:11.797565Z"
    }
   },
   "outputs": [],
   "source": [
    "pairs = pd.DataFrame(county[county.columns[0]])"
   ]
  },
  {
   "cell_type": "code",
   "execution_count": 34,
   "metadata": {
    "ExecuteTime": {
     "end_time": "2019-11-02T16:57:11.824632Z",
     "start_time": "2019-11-02T16:57:11.817867Z"
    }
   },
   "outputs": [],
   "source": [
    "#function to check if state is appended to the end of county\n",
    "def checkin(s_name, county):\n",
    "    if \",\" + s_name in county:\n",
    "        return 1\n",
    "    else:\n",
    "        return 0"
   ]
  },
  {
   "cell_type": "code",
   "execution_count": 35,
   "metadata": {
    "ExecuteTime": {
     "end_time": "2019-11-02T16:57:11.838623Z",
     "start_time": "2019-11-02T16:57:11.831768Z"
    }
   },
   "outputs": [],
   "source": [
    "#removes commas\n",
    "def namefix(county):\n",
    "    return county.replace(',','')"
   ]
  },
  {
   "cell_type": "code",
   "execution_count": 36,
   "metadata": {
    "ExecuteTime": {
     "end_time": "2019-11-02T16:57:11.849371Z",
     "start_time": "2019-11-02T16:57:11.843858Z"
    }
   },
   "outputs": [],
   "source": [
    "#removes spaces\n",
    "def spacefix(county):\n",
    "    return county.replace(' ','')"
   ]
  },
  {
   "cell_type": "code",
   "execution_count": 37,
   "metadata": {
    "ExecuteTime": {
     "end_time": "2019-11-02T16:57:11.861791Z",
     "start_time": "2019-11-02T16:57:11.854386Z"
    }
   },
   "outputs": [],
   "source": [
    "#removes '\n",
    "def apfix(county):\n",
    "    return county.replace(\"'\", '')"
   ]
  },
  {
   "cell_type": "code",
   "execution_count": 41,
   "metadata": {
    "ExecuteTime": {
     "end_time": "2019-11-02T16:59:39.283772Z",
     "start_time": "2019-11-02T16:59:39.275706Z"
    }
   },
   "outputs": [],
   "source": [
    "def findstate(county):\n",
    "    i = county.find(',')\n",
    "    return county[i+1:]"
   ]
  },
  {
   "cell_type": "code",
   "execution_count": 44,
   "metadata": {
    "ExecuteTime": {
     "end_time": "2019-11-02T17:01:07.171654Z",
     "start_time": "2019-11-02T17:01:07.151575Z"
    }
   },
   "outputs": [],
   "source": [
    "#Used later in baseline calculation\n",
    "baseline = pd.DataFrame()\n",
    "baseline['County'] = county[county.columns[0]]\n",
    "baseline['State'] = baseline['County'].apply(findstate)"
   ]
  },
  {
   "cell_type": "markdown",
   "metadata": {},
   "source": [
    "Can be rewritten for conciseness and usability"
   ]
  },
  {
   "cell_type": "code",
   "execution_count": 13,
   "metadata": {
    "ExecuteTime": {
     "end_time": "2019-11-02T16:53:07.559820Z",
     "start_time": "2019-11-02T16:53:07.380641Z"
    }
   },
   "outputs": [],
   "source": [
    "#creates the pairing using the above functions\n",
    "pairs[pairs.columns[0]] = pairs[pairs.columns[0]].apply(apfix)\n",
    "county[county.columns[0]] = county[county.columns[0]].apply(apfix)\n",
    "pairs[pairs.columns[0]] = pairs[pairs.columns[0]].apply(spacefix)\n",
    "county[county.columns[0]] = county[county.columns[0]].apply(spacefix)\n",
    "for state_name in state[state.columns[0]]:\n",
    "    pairs[state_name] = np.vectorize(checkin)(state_name, county[county.columns[0]])\n",
    "pairs[pairs.columns[0]] = pairs[pairs.columns[0]].apply(namefix)\n",
    "county[county.columns[0]] = county[county.columns[0]].apply(namefix)"
   ]
  },
  {
   "cell_type": "code",
   "execution_count": 14,
   "metadata": {
    "ExecuteTime": {
     "end_time": "2019-11-02T16:53:07.618431Z",
     "start_time": "2019-11-02T16:53:07.564541Z"
    }
   },
   "outputs": [
    {
     "data": {
      "text/html": [
       "<div>\n",
       "<style scoped>\n",
       "    .dataframe tbody tr th:only-of-type {\n",
       "        vertical-align: middle;\n",
       "    }\n",
       "\n",
       "    .dataframe tbody tr th {\n",
       "        vertical-align: top;\n",
       "    }\n",
       "\n",
       "    .dataframe thead th {\n",
       "        text-align: right;\n",
       "    }\n",
       "</style>\n",
       "<table border=\"1\" class=\"dataframe\">\n",
       "  <thead>\n",
       "    <tr style=\"text-align: right;\">\n",
       "      <th></th>\n",
       "      <th>County</th>\n",
       "      <th>Alabama</th>\n",
       "      <th>Alaska</th>\n",
       "      <th>Arizona</th>\n",
       "      <th>Arkansas</th>\n",
       "      <th>California</th>\n",
       "      <th>Colorado</th>\n",
       "      <th>Connecticut</th>\n",
       "      <th>Delaware</th>\n",
       "      <th>DistrictofColumbia</th>\n",
       "      <th>...</th>\n",
       "      <th>SouthDakota</th>\n",
       "      <th>Tennessee</th>\n",
       "      <th>Texas</th>\n",
       "      <th>Utah</th>\n",
       "      <th>Vermont</th>\n",
       "      <th>Virginia</th>\n",
       "      <th>Washington</th>\n",
       "      <th>WestVirginia</th>\n",
       "      <th>Wisconsin</th>\n",
       "      <th>Wyoming</th>\n",
       "    </tr>\n",
       "  </thead>\n",
       "  <tbody>\n",
       "    <tr>\n",
       "      <th>0</th>\n",
       "      <td>AutaugaCountyAlabama</td>\n",
       "      <td>1</td>\n",
       "      <td>0</td>\n",
       "      <td>0</td>\n",
       "      <td>0</td>\n",
       "      <td>0</td>\n",
       "      <td>0</td>\n",
       "      <td>0</td>\n",
       "      <td>0</td>\n",
       "      <td>0</td>\n",
       "      <td>...</td>\n",
       "      <td>0</td>\n",
       "      <td>0</td>\n",
       "      <td>0</td>\n",
       "      <td>0</td>\n",
       "      <td>0</td>\n",
       "      <td>0</td>\n",
       "      <td>0</td>\n",
       "      <td>0</td>\n",
       "      <td>0</td>\n",
       "      <td>0</td>\n",
       "    </tr>\n",
       "    <tr>\n",
       "      <th>1</th>\n",
       "      <td>BaldwinCountyAlabama</td>\n",
       "      <td>1</td>\n",
       "      <td>0</td>\n",
       "      <td>0</td>\n",
       "      <td>0</td>\n",
       "      <td>0</td>\n",
       "      <td>0</td>\n",
       "      <td>0</td>\n",
       "      <td>0</td>\n",
       "      <td>0</td>\n",
       "      <td>...</td>\n",
       "      <td>0</td>\n",
       "      <td>0</td>\n",
       "      <td>0</td>\n",
       "      <td>0</td>\n",
       "      <td>0</td>\n",
       "      <td>0</td>\n",
       "      <td>0</td>\n",
       "      <td>0</td>\n",
       "      <td>0</td>\n",
       "      <td>0</td>\n",
       "    </tr>\n",
       "    <tr>\n",
       "      <th>2</th>\n",
       "      <td>BarbourCountyAlabama</td>\n",
       "      <td>1</td>\n",
       "      <td>0</td>\n",
       "      <td>0</td>\n",
       "      <td>0</td>\n",
       "      <td>0</td>\n",
       "      <td>0</td>\n",
       "      <td>0</td>\n",
       "      <td>0</td>\n",
       "      <td>0</td>\n",
       "      <td>...</td>\n",
       "      <td>0</td>\n",
       "      <td>0</td>\n",
       "      <td>0</td>\n",
       "      <td>0</td>\n",
       "      <td>0</td>\n",
       "      <td>0</td>\n",
       "      <td>0</td>\n",
       "      <td>0</td>\n",
       "      <td>0</td>\n",
       "      <td>0</td>\n",
       "    </tr>\n",
       "    <tr>\n",
       "      <th>3</th>\n",
       "      <td>BibbCountyAlabama</td>\n",
       "      <td>1</td>\n",
       "      <td>0</td>\n",
       "      <td>0</td>\n",
       "      <td>0</td>\n",
       "      <td>0</td>\n",
       "      <td>0</td>\n",
       "      <td>0</td>\n",
       "      <td>0</td>\n",
       "      <td>0</td>\n",
       "      <td>...</td>\n",
       "      <td>0</td>\n",
       "      <td>0</td>\n",
       "      <td>0</td>\n",
       "      <td>0</td>\n",
       "      <td>0</td>\n",
       "      <td>0</td>\n",
       "      <td>0</td>\n",
       "      <td>0</td>\n",
       "      <td>0</td>\n",
       "      <td>0</td>\n",
       "    </tr>\n",
       "    <tr>\n",
       "      <th>4</th>\n",
       "      <td>BlountCountyAlabama</td>\n",
       "      <td>1</td>\n",
       "      <td>0</td>\n",
       "      <td>0</td>\n",
       "      <td>0</td>\n",
       "      <td>0</td>\n",
       "      <td>0</td>\n",
       "      <td>0</td>\n",
       "      <td>0</td>\n",
       "      <td>0</td>\n",
       "      <td>...</td>\n",
       "      <td>0</td>\n",
       "      <td>0</td>\n",
       "      <td>0</td>\n",
       "      <td>0</td>\n",
       "      <td>0</td>\n",
       "      <td>0</td>\n",
       "      <td>0</td>\n",
       "      <td>0</td>\n",
       "      <td>0</td>\n",
       "      <td>0</td>\n",
       "    </tr>\n",
       "  </tbody>\n",
       "</table>\n",
       "<p>5 rows × 52 columns</p>\n",
       "</div>"
      ],
      "text/plain": [
       "                 County  Alabama  Alaska  Arizona  Arkansas  California  \\\n",
       "0  AutaugaCountyAlabama        1       0        0         0           0   \n",
       "1  BaldwinCountyAlabama        1       0        0         0           0   \n",
       "2  BarbourCountyAlabama        1       0        0         0           0   \n",
       "3     BibbCountyAlabama        1       0        0         0           0   \n",
       "4   BlountCountyAlabama        1       0        0         0           0   \n",
       "\n",
       "   Colorado  Connecticut  Delaware  DistrictofColumbia  ...  SouthDakota  \\\n",
       "0         0            0         0                   0  ...            0   \n",
       "1         0            0         0                   0  ...            0   \n",
       "2         0            0         0                   0  ...            0   \n",
       "3         0            0         0                   0  ...            0   \n",
       "4         0            0         0                   0  ...            0   \n",
       "\n",
       "   Tennessee  Texas  Utah  Vermont  Virginia  Washington  WestVirginia  \\\n",
       "0          0      0     0        0         0           0             0   \n",
       "1          0      0     0        0         0           0             0   \n",
       "2          0      0     0        0         0           0             0   \n",
       "3          0      0     0        0         0           0             0   \n",
       "4          0      0     0        0         0           0             0   \n",
       "\n",
       "   Wisconsin  Wyoming  \n",
       "0          0        0  \n",
       "1          0        0  \n",
       "2          0        0  \n",
       "3          0        0  \n",
       "4          0        0  \n",
       "\n",
       "[5 rows x 52 columns]"
      ]
     },
     "execution_count": 14,
     "metadata": {},
     "output_type": "execute_result"
    }
   ],
   "source": [
    "pairs.head()"
   ]
  },
  {
   "cell_type": "markdown",
   "metadata": {},
   "source": [
    "## Step 5: Run This"
   ]
  },
  {
   "cell_type": "code",
   "execution_count": 15,
   "metadata": {
    "ExecuteTime": {
     "end_time": "2019-11-02T16:53:07.629896Z",
     "start_time": "2019-11-02T16:53:07.624390Z"
    }
   },
   "outputs": [],
   "source": [
    "#Uncomment an run this cell if the first time using this file or if you want the output file to have a different name\n",
    "### %%writefile output.txt"
   ]
  },
  {
   "cell_type": "code",
   "execution_count": 16,
   "metadata": {
    "ExecuteTime": {
     "end_time": "2019-11-02T16:53:12.289730Z",
     "start_time": "2019-11-02T16:53:07.635154Z"
    }
   },
   "outputs": [],
   "source": [
    "#generates file\n",
    "with open(\"output.txt\", \"w\") as f:\n",
    "    f.write(\"param money := \" + str(money) + \";\")\n",
    "    f.write(\"\\n\")\n",
    "    f.write(\"param increment := \" + str(increment) + \";\")\n",
    "    f.write(\"\\n\")\n",
    "    f.write(\"param limit := \" + str(limit) + \";\")\n",
    "    f.write(\"\\n\")\n",
    "    \n",
    "    f.write(\"set States := \" )\n",
    "    f.write(\"\\n\")\n",
    "    for i in state.index:\n",
    "        f.write(state[state.columns[0]][i])\n",
    "        f.write(\"\\n\")\n",
    "    f.write(\";\")\n",
    "    f.write(\"\\n\")\n",
    "    \n",
    "    f.write(\"param entry_cost:=\")\n",
    "    f.write(\"\\n\")\n",
    "    for i in state.index:\n",
    "        f.write(state[state.columns[0]][i] + \"     \" + str(state[state.columns[1]][i]))\n",
    "        f.write(\"\\n\")\n",
    "    f.write(\";\")\n",
    "    f.write(\"\\n\")\n",
    "    \n",
    "    f.write(\"set Counties := \" )\n",
    "    f.write(\"\\n\")\n",
    "    for i in county.index:\n",
    "        f.write(county[county.columns[0]][i])\n",
    "        f.write(\"\\n\")\n",
    "    f.write(\";\")\n",
    "    f.write(\"\\n\")\n",
    "    \n",
    "    for col_name in county.columns:\n",
    "        if col_name != county.columns[0]:\n",
    "            f.write(\"param \" + col_name + \":=\")\n",
    "            for i in county.index:\n",
    "                f.write(county[county.columns[0]][i] + \"     \" + str(county[col_name][i]))\n",
    "                .\n",
    "            \n",
    "    f.write(\"param Pairs: \")\n",
    "    for i in state.index:\n",
    "        f.write(state[state.columns[0]][i] + \" \")\n",
    "    f.write(\":=\")\n",
    "    f.write(\"\\n\")\n",
    "    for i in pairs.index:\n",
    "        for col in pairs.columns:\n",
    "            f.write(str(pairs[col][i]))\n",
    "            f.write(\" \")\n",
    "        f.write(\"\\n\")\n",
    "    f.write(\";\")"
   ]
  },
  {
   "cell_type": "markdown",
   "metadata": {},
   "source": [
    "# Determine Basline"
   ]
  },
  {
   "cell_type": "markdown",
   "metadata": {},
   "source": [
    "## Baseline Using Greedy Choice"
   ]
  },
  {
   "cell_type": "markdown",
   "metadata": {},
   "source": [
    "Basline represents an upperbound on what can be achieved by greedily selecting counties and speding an equal amount for each. Doesn't use state lines and instead subtracts a fixed amount to account for state entry fees. This results in baselines being overestimations of what is actually achievable if p is chosen to be greater than what the model uses for state costs (recommended)."
   ]
  },
  {
   "cell_type": "code",
   "execution_count": 17,
   "metadata": {
    "ExecuteTime": {
     "end_time": "2019-11-02T16:53:12.300816Z",
     "start_time": "2019-11-02T16:53:12.294742Z"
    }
   },
   "outputs": [],
   "source": [
    "#sample benefit function that should match whats being used in the .mod file\n",
    "def reduc(c1,c2,c3,i):\n",
    "    return c3 * 1/(1+c1*(1.001)**(-c2*i))"
   ]
  },
  {
   "cell_type": "code",
   "execution_count": 141,
   "metadata": {
    "ExecuteTime": {
     "end_time": "2019-11-02T18:03:53.297571Z",
     "start_time": "2019-11-02T18:03:53.292559Z"
    }
   },
   "outputs": [],
   "source": [
    "p = 10_000_000 #just an estimation\n",
    "C = [10_000, 50_000, 100_000, 250_000, 500_000, 750_000, 1_000_000, 1_250_000, 1_500_000]"
   ]
  },
  {
   "cell_type": "code",
   "execution_count": 142,
   "metadata": {
    "ExecuteTime": {
     "end_time": "2019-11-02T18:03:56.420104Z",
     "start_time": "2019-11-02T18:03:54.218504Z"
    }
   },
   "outputs": [
    {
     "name": "stdout",
     "output_type": "stream",
     "text": [
      "Upperbound for spending 10000 and n = 9000:  1419909.6953648177\n",
      "Upperbound for spending 50000 and n = 1800:  1465515.1594352499\n",
      "Upperbound for spending 100000 and n = 900:  1362826.322207126\n",
      "Upperbound for spending 250000 and n = 360:  2374836.44277042\n",
      "Upperbound for spending 500000 and n = 180:  9524102.741457276\n",
      "Upperbound for spending 750000 and n = 120:  17326435.222843345\n",
      "Upperbound for spending 1000000 and n = 90:  16442855.921010721\n",
      "Upperbound for spending 1250000 and n = 72:  13816869.75065875\n",
      "Upperbound for spending 1500000 and n = 60:  11700367.228653194\n"
     ]
    }
   ],
   "source": [
    "for c in C:\n",
    "    n= int(np.ceil((money - p) / c))\n",
    "    new_col = []\n",
    "    for i in range(baseline.shape[0]):\n",
    "         new_col.append(reduc(county['Char_1'][i],county['Char_2'][i],county['Char_3'][i],c))\n",
    "    baseline[str(c)]=new_col\n",
    "    print(f'Upperbound for spending {c} and n = {n}: ', sum(baseline[str(c)].sort_values(ascending=False)[0:n]))"
   ]
  },
  {
   "cell_type": "markdown",
   "metadata": {},
   "source": [
    "## More Accurate Baseline"
   ]
  },
  {
   "cell_type": "markdown",
   "metadata": {},
   "source": [
    "Creates a more accurate baseline using the average of the above calculations to rank each state by importance. Chooses how many states to consider paying their entry cost and how many counties to consider per state chosen then chooses amount to spend in each county based on remaining money. Does not constrain maximum or minimum number of counties per state ie if 10 states are chosen and 20 counties per state -> chooses 10*20 = 200 best counties overall. Some error due to integer division, overestimation because ceiling function was used. Uses gridsearch-esque method of finding optimal state and county number"
   ]
  },
  {
   "cell_type": "code",
   "execution_count": 88,
   "metadata": {
    "ExecuteTime": {
     "end_time": "2019-11-02T17:26:11.077282Z",
     "start_time": "2019-11-02T17:26:11.065232Z"
    }
   },
   "outputs": [],
   "source": [
    "entry = state\n",
    "entry.index = state[state.columns[0]]"
   ]
  },
  {
   "cell_type": "code",
   "execution_count": 64,
   "metadata": {
    "ExecuteTime": {
     "end_time": "2019-11-02T17:12:25.338329Z",
     "start_time": "2019-11-02T17:12:24.689406Z"
    }
   },
   "outputs": [],
   "source": [
    "new_col = []\n",
    "for i in range(baseline.shape[0]):\n",
    "    values = []\n",
    "    for c in C:\n",
    "        values.append(baseline[str(c)][i])\n",
    "    new_col.append(np.mean(values))\n",
    "baseline[\"Average\"] = new_col"
   ]
  },
  {
   "cell_type": "code",
   "execution_count": 129,
   "metadata": {
    "ExecuteTime": {
     "end_time": "2019-11-02T17:57:33.586070Z",
     "start_time": "2019-11-02T17:57:33.581042Z"
    }
   },
   "outputs": [],
   "source": [
    "n_states = [5,10,15,20,25,30,35,40,45,50]\n",
    "n_counties = [10,25,50,75,100]"
   ]
  },
  {
   "cell_type": "code",
   "execution_count": 131,
   "metadata": {
    "ExecuteTime": {
     "end_time": "2019-11-02T18:00:09.014977Z",
     "start_time": "2019-11-02T17:59:12.097480Z"
    }
   },
   "outputs": [
    {
     "data": {
      "application/vnd.jupyter.widget-view+json": {
       "model_id": "1e199c09b13d45dca520dedccd5cc32f",
       "version_major": 2,
       "version_minor": 0
      },
      "text/plain": [
       "HBox(children=(IntProgress(value=0, max=10), HTML(value='')))"
      ]
     },
     "metadata": {},
     "output_type": "display_data"
    },
    {
     "name": "stderr",
     "output_type": "stream",
     "text": [
      "C:\\Users\\steph\\AppData\\Local\\Continuum\\anaconda3\\lib\\site-packages\\ipykernel_launcher.py:14: SettingWithCopyWarning: \n",
      "A value is trying to be set on a copy of a slice from a DataFrame.\n",
      "Try using .loc[row_indexer,col_indexer] = value instead\n",
      "\n",
      "See the caveats in the documentation: http://pandas.pydata.org/pandas-docs/stable/indexing.html#indexing-view-versus-copy\n",
      "  \n"
     ]
    },
    {
     "name": "stdout",
     "output_type": "stream",
     "text": [
      "\n",
      "\n",
      "Best baseline was acheived by spending 971100.0 in 10 counties and 10 states, which yielded 13472299.52260408\n"
     ]
    }
   ],
   "source": [
    "best = None\n",
    "\n",
    "for s in tqdm_notebook(n_states):\n",
    "    M = money\n",
    "    S = baseline.groupby(by='State').mean()['Average'].sort_values(ascending=False)[0:s]\n",
    "    for s_name in S.index:  \n",
    "        M = M - entry['Entry Cost'][s_name]\n",
    "    for c in n_counties:\n",
    "        spend = np.ceil(M / s / c)\n",
    "        C = baseline[baseline['State'].isin(list(S.index))]\n",
    "        new_col = []\n",
    "        for i in C.index:\n",
    "            new_col.append(reduc(county['Char_1'][i],county['Char_2'][i],county['Char_3'][i],spend))\n",
    "        C[str(spend)] = new_col\n",
    "        base = sum(C[str(spend)].sort_values(ascending=False)[0:c*s])\n",
    "        #print(f'Baseline for spending exactly {spend} in {c} counties over {s} available states: {base}')\n",
    "        \n",
    "        if best == None:\n",
    "            best = (base, s, c, spend)\n",
    "        elif best[0] < base:\n",
    "            best = (base, s, c, spend)\n",
    "print('') \n",
    "print(f'Best baseline was acheived by spending {best[3]} in {best[2]} counties and {best[1]} states, which yielded {best[0]}')"
   ]
  }
 ],
 "metadata": {
  "kernelspec": {
   "display_name": "Python 3",
   "language": "python",
   "name": "python3"
  },
  "language_info": {
   "codemirror_mode": {
    "name": "ipython",
    "version": 3
   },
   "file_extension": ".py",
   "mimetype": "text/x-python",
   "name": "python",
   "nbconvert_exporter": "python",
   "pygments_lexer": "ipython3",
   "version": "3.7.3"
  },
  "toc": {
   "base_numbering": 1,
   "nav_menu": {},
   "number_sections": true,
   "sideBar": true,
   "skip_h1_title": false,
   "title_cell": "Table of Contents",
   "title_sidebar": "Contents",
   "toc_cell": false,
   "toc_position": {},
   "toc_section_display": true,
   "toc_window_display": false
  },
  "varInspector": {
   "cols": {
    "lenName": 16,
    "lenType": 16,
    "lenVar": 40
   },
   "kernels_config": {
    "python": {
     "delete_cmd_postfix": "",
     "delete_cmd_prefix": "del ",
     "library": "var_list.py",
     "varRefreshCmd": "print(var_dic_list())"
    },
    "r": {
     "delete_cmd_postfix": ") ",
     "delete_cmd_prefix": "rm(",
     "library": "var_list.r",
     "varRefreshCmd": "cat(var_dic_list()) "
    }
   },
   "types_to_exclude": [
    "module",
    "function",
    "builtin_function_or_method",
    "instance",
    "_Feature"
   ],
   "window_display": false
  }
 },
 "nbformat": 4,
 "nbformat_minor": 2
}
